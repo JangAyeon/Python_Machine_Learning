{
  "nbformat": 4,
  "nbformat_minor": 0,
  "metadata": {
    "colab": {
      "name": "[3-6]피마인디언당뇨병예측.ipynb",
      "provenance": [],
      "collapsed_sections": [],
      "authorship_tag": "ABX9TyOAq+DqS4v29SNzyEeQR8k4",
      "include_colab_link": true
    },
    "kernelspec": {
      "name": "python3",
      "display_name": "Python 3"
    }
  },
  "cells": [
    {
      "cell_type": "markdown",
      "metadata": {
        "id": "view-in-github",
        "colab_type": "text"
      },
      "source": [
        "<a href=\"https://colab.research.google.com/github/JangAyeon/Python_Machine_Learning/blob/main/%5B3_6%5D%ED%94%BC%EB%A7%88%EC%9D%B8%EB%94%94%EC%96%B8%EB%8B%B9%EB%87%A8%EB%B3%91%EC%98%88%EC%B8%A1.ipynb\" target=\"_parent\"><img src=\"https://colab.research.google.com/assets/colab-badge.svg\" alt=\"Open In Colab\"/></a>"
      ]
    },
    {
      "cell_type": "code",
      "metadata": {
        "id": "FZ9FQQME1n4z"
      },
      "source": [
        "import numpy as np\r\n",
        "import pandas as pd\r\n",
        "import matplotlib.pyplot as plt\r\n",
        "\r\n",
        "from sklearn.model_selection import train_test_split\r\n",
        "from sklearn.metrics import accuracy_score,precision_score,recall_score,roc_auc_score\r\n",
        "from sklearn.metrics import f1_score,confusion_matrix,precision_recall_curve,roc_curve\r\n",
        "from sklearn.preprocessing import StandardScaler\r\n",
        "from sklearn.preprocessing import Binarizer\r\n",
        "\r\n",
        "from sklearn.linear_model import LogisticRegression"
      ],
      "execution_count": null,
      "outputs": []
    },
    {
      "cell_type": "code",
      "metadata": {
        "colab": {
          "base_uri": "https://localhost:8080/",
          "height": 247
        },
        "id": "Aqaw6SC62Sfg",
        "outputId": "b2899477-b3e2-4301-cacb-6cc4a8a733b1"
      },
      "source": [
        "diabetes_data=pd.read_csv(\"diabetes.csv\")\r\n",
        "\r\n",
        "#target값의 분포 확인\r\n",
        "print(diabetes_data[\"Outcome\"].value_counts())\r\n",
        "diabetes_data.head()"
      ],
      "execution_count": null,
      "outputs": [
        {
          "output_type": "stream",
          "text": [
            "0    500\n",
            "1    268\n",
            "Name: Outcome, dtype: int64\n"
          ],
          "name": "stdout"
        },
        {
          "output_type": "execute_result",
          "data": {
            "text/html": [
              "<div>\n",
              "<style scoped>\n",
              "    .dataframe tbody tr th:only-of-type {\n",
              "        vertical-align: middle;\n",
              "    }\n",
              "\n",
              "    .dataframe tbody tr th {\n",
              "        vertical-align: top;\n",
              "    }\n",
              "\n",
              "    .dataframe thead th {\n",
              "        text-align: right;\n",
              "    }\n",
              "</style>\n",
              "<table border=\"1\" class=\"dataframe\">\n",
              "  <thead>\n",
              "    <tr style=\"text-align: right;\">\n",
              "      <th></th>\n",
              "      <th>Pregnancies</th>\n",
              "      <th>Glucose</th>\n",
              "      <th>BloodPressure</th>\n",
              "      <th>SkinThickness</th>\n",
              "      <th>Insulin</th>\n",
              "      <th>BMI</th>\n",
              "      <th>DiabetesPedigreeFunction</th>\n",
              "      <th>Age</th>\n",
              "      <th>Outcome</th>\n",
              "    </tr>\n",
              "  </thead>\n",
              "  <tbody>\n",
              "    <tr>\n",
              "      <th>0</th>\n",
              "      <td>6</td>\n",
              "      <td>148</td>\n",
              "      <td>72</td>\n",
              "      <td>35</td>\n",
              "      <td>0</td>\n",
              "      <td>33.6</td>\n",
              "      <td>0.627</td>\n",
              "      <td>50</td>\n",
              "      <td>1</td>\n",
              "    </tr>\n",
              "    <tr>\n",
              "      <th>1</th>\n",
              "      <td>1</td>\n",
              "      <td>85</td>\n",
              "      <td>66</td>\n",
              "      <td>29</td>\n",
              "      <td>0</td>\n",
              "      <td>26.6</td>\n",
              "      <td>0.351</td>\n",
              "      <td>31</td>\n",
              "      <td>0</td>\n",
              "    </tr>\n",
              "    <tr>\n",
              "      <th>2</th>\n",
              "      <td>8</td>\n",
              "      <td>183</td>\n",
              "      <td>64</td>\n",
              "      <td>0</td>\n",
              "      <td>0</td>\n",
              "      <td>23.3</td>\n",
              "      <td>0.672</td>\n",
              "      <td>32</td>\n",
              "      <td>1</td>\n",
              "    </tr>\n",
              "    <tr>\n",
              "      <th>3</th>\n",
              "      <td>1</td>\n",
              "      <td>89</td>\n",
              "      <td>66</td>\n",
              "      <td>23</td>\n",
              "      <td>94</td>\n",
              "      <td>28.1</td>\n",
              "      <td>0.167</td>\n",
              "      <td>21</td>\n",
              "      <td>0</td>\n",
              "    </tr>\n",
              "    <tr>\n",
              "      <th>4</th>\n",
              "      <td>0</td>\n",
              "      <td>137</td>\n",
              "      <td>40</td>\n",
              "      <td>35</td>\n",
              "      <td>168</td>\n",
              "      <td>43.1</td>\n",
              "      <td>2.288</td>\n",
              "      <td>33</td>\n",
              "      <td>1</td>\n",
              "    </tr>\n",
              "  </tbody>\n",
              "</table>\n",
              "</div>"
            ],
            "text/plain": [
              "   Pregnancies  Glucose  BloodPressure  ...  DiabetesPedigreeFunction  Age  Outcome\n",
              "0            6      148             72  ...                     0.627   50        1\n",
              "1            1       85             66  ...                     0.351   31        0\n",
              "2            8      183             64  ...                     0.672   32        1\n",
              "3            1       89             66  ...                     0.167   21        0\n",
              "4            0      137             40  ...                     2.288   33        1\n",
              "\n",
              "[5 rows x 9 columns]"
            ]
          },
          "metadata": {
            "tags": []
          },
          "execution_count": 2
        }
      ]
    },
    {
      "cell_type": "code",
      "metadata": {
        "colab": {
          "base_uri": "https://localhost:8080/"
        },
        "id": "2f5Hdv-c22Ny",
        "outputId": "07366186-de2f-4fe4-a524-6c9fc5982bf0"
      },
      "source": [
        "diabetes_data.info()"
      ],
      "execution_count": null,
      "outputs": [
        {
          "output_type": "stream",
          "text": [
            "<class 'pandas.core.frame.DataFrame'>\n",
            "RangeIndex: 768 entries, 0 to 767\n",
            "Data columns (total 9 columns):\n",
            " #   Column                    Non-Null Count  Dtype  \n",
            "---  ------                    --------------  -----  \n",
            " 0   Pregnancies               768 non-null    int64  \n",
            " 1   Glucose                   768 non-null    int64  \n",
            " 2   BloodPressure             768 non-null    int64  \n",
            " 3   SkinThickness             768 non-null    int64  \n",
            " 4   Insulin                   768 non-null    int64  \n",
            " 5   BMI                       768 non-null    float64\n",
            " 6   DiabetesPedigreeFunction  768 non-null    float64\n",
            " 7   Age                       768 non-null    int64  \n",
            " 8   Outcome                   768 non-null    int64  \n",
            "dtypes: float64(2), int64(7)\n",
            "memory usage: 54.1 KB\n"
          ],
          "name": "stdout"
        }
      ]
    },
    {
      "cell_type": "code",
      "metadata": {
        "id": "0e-kJcB731sL"
      },
      "source": [
        "#평가 지표 함수\r\n",
        "def get_clf_eval(y_test,pred=None,pred_proba=None):\r\n",
        "\r\n",
        "  confusion=confusion_matrix(y_test,pred)\r\n",
        "\r\n",
        "  accuracy=accuracy_score(y_test,pred)\r\n",
        "  precision=precision_score(y_test,pred)\r\n",
        "  recall=recall_score(y_test,pred)\r\n",
        "  f1=f1_score(y_test,pred)\r\n",
        "\r\n",
        "  roc_auc=roc_auc_score(y_test,pred_proba)\r\n",
        "\r\n",
        "  print(\"오차행렬\")\r\n",
        "  print(confusion)\r\n",
        "\r\n",
        "  print(\"정확도: {0:.4f},  정밀도: {1:.4f}, 재현율: {2:.4f}, F1: {3:.4f}, AUC: {4:.4f}\".format(accuracy,precision,recall,f1,roc_auc))"
      ],
      "execution_count": null,
      "outputs": []
    },
    {
      "cell_type": "code",
      "metadata": {
        "id": "tVXX7BwY50Lc"
      },
      "source": [
        "#정밀값과 재현율 tradeoff 그래프 그리는 함수\r\n",
        "def precision_recall_curve_plot(y_test,pred_proba_c1):\r\n",
        "  precisions,recalls,thresholds=precision_recall_curve(y_test,pred_proba_c1)\r\n",
        "\r\n",
        "  plt.figure(figsize=(8,6))\r\n",
        "  threshold_boundary=thresholds.shape[0]\r\n",
        "  plt.plot(thresholds, precisions[0:threshold_boundary],linestyle=\"--\",label=\"precision\")\r\n",
        "  plt.plot(thresholds,recalls[0:threshold_boundary],label=\"recall\")\r\n",
        "\r\n",
        "  start,end=plt.xlim()\r\n",
        "  plt.xtricks=(np.round(np.arange(start,end,0.1),2))\r\n",
        "\r\n",
        "  plt.xlabel(\"Threshold value\")\r\n",
        "  plt.ylabel(\"Precision and Recall value\")\r\n",
        "  plt.show()"
      ],
      "execution_count": null,
      "outputs": []
    },
    {
      "cell_type": "code",
      "metadata": {
        "id": "CCShUP-p_PJ9"
      },
      "source": [
        "#임계값에 따른 평가지표 보여주는 함수\r\n",
        "def get_eval_by_threshold(y_test,pred_proba_c1,thresholds):\r\n",
        "  for custom_threshold in thresholds:\r\n",
        "    binarizer=Binarizer(threshold=custom_threshold).fit(pred_proba_c1)\r\n",
        "    custom_predict=binarizer.transform(pred_proba_c1)\r\n",
        "    print(\"임곗값: \",custom_threshold)\r\n",
        "    get_clf_eval(y_test,custom_predict,pred_proba_c1)\r\n"
      ],
      "execution_count": null,
      "outputs": []
    },
    {
      "cell_type": "code",
      "metadata": {
        "id": "J2F_MQpk29G-"
      },
      "source": [
        "#X : feature dataset 설정, Y : label dataset 설정\r\n",
        "#맨 끝 column이 Outcome으로 레이블 값임, 칼럼 위치 -1을 이용해 추출\r\n",
        "X=diabetes_data.iloc[:,:-1]\r\n",
        "y=diabetes_data.iloc[:,-1]"
      ],
      "execution_count": null,
      "outputs": []
    },
    {
      "cell_type": "code",
      "metadata": {
        "colab": {
          "base_uri": "https://localhost:8080/"
        },
        "id": "_jGwTXDk3OYt",
        "outputId": "6d0d3c3f-b6aa-46bb-d711-904dff191ab5"
      },
      "source": [
        "X_train,X_test,y_train,y_test=train_test_split(X,y,test_size=0.2,random_state=156,stratify=y)\r\n",
        "\r\n",
        "#logistic regression 학습,예측,평가\r\n",
        "lr_clf=LogisticRegression()\r\n",
        "lr_clf.fit(X_train,y_train)\r\n",
        "pred=lr_clf.predict(X_test)\r\n",
        "\r\n",
        "#roc_auc_score 계산을 위한 1 예측 확률 계산\r\n",
        "pred_proba=lr_clf.predict_proba(X_test)[:,1]\r\n"
      ],
      "execution_count": null,
      "outputs": [
        {
          "output_type": "stream",
          "text": [
            "/usr/local/lib/python3.6/dist-packages/sklearn/linear_model/_logistic.py:940: ConvergenceWarning: lbfgs failed to converge (status=1):\n",
            "STOP: TOTAL NO. of ITERATIONS REACHED LIMIT.\n",
            "\n",
            "Increase the number of iterations (max_iter) or scale the data as shown in:\n",
            "    https://scikit-learn.org/stable/modules/preprocessing.html\n",
            "Please also refer to the documentation for alternative solver options:\n",
            "    https://scikit-learn.org/stable/modules/linear_model.html#logistic-regression\n",
            "  extra_warning_msg=_LOGISTIC_SOLVER_CONVERGENCE_MSG)\n"
          ],
          "name": "stderr"
        }
      ]
    },
    {
      "cell_type": "code",
      "metadata": {
        "colab": {
          "base_uri": "https://localhost:8080/"
        },
        "id": "evmzTRk45KJO",
        "outputId": "8e6e27f4-9c04-48b3-8a20-9a4a4c7e8831"
      },
      "source": [
        "get_clf_eval(y_test,pred,pred_proba)"
      ],
      "execution_count": null,
      "outputs": [
        {
          "output_type": "stream",
          "text": [
            "오차행렬\n",
            "[[88 12]\n",
            " [23 31]]\n",
            "정확도: 0.7727,  정밀도: 0.7209, 재현율: 0.5741, F1: 0.6392, AUC: 0.7919\n"
          ],
          "name": "stdout"
        }
      ]
    },
    {
      "cell_type": "code",
      "metadata": {
        "colab": {
          "base_uri": "https://localhost:8080/",
          "height": 388
        },
        "id": "DN-oTlR15Q9_",
        "outputId": "89c8ce56-1898-45f3-93f8-309aaf10adda"
      },
      "source": [
        "#precision recall 곡선 그림\r\n",
        "pred_proba_c1=lr_clf.predict_proba(X_test)[:,1]\r\n",
        "precision_recall_curve_plot(y_test,pred_proba_c1)"
      ],
      "execution_count": null,
      "outputs": [
        {
          "output_type": "display_data",
          "data": {
            "image/png": "[encoded data removed]",
            "text/plain": [
              "<Figure size 576x432 with 1 Axes>"
            ]
          },
          "metadata": {
            "tags": [],
            "needs_background": "light"
          }
        }
      ]
    },
    {
      "cell_type": "code",
      "metadata": {
        "colab": {
          "base_uri": "https://localhost:8080/",
          "height": 282
        },
        "id": "G5Tq5pON5rFT",
        "outputId": "5e2d74f3-0f1f-4c66-8206-532764a8624b"
      },
      "source": [
        "#각 피쳐들의 4분위 값 확인\r\n",
        "#Glucose\tBloodPressure\tSkinThickness\tInsulin\t에서 0 나오기는 어려움\r\n",
        "diabetes_data.describe()"
      ],
      "execution_count": null,
      "outputs": [
        {
          "output_type": "execute_result",
          "data": {
            "text/html": [
              "<div>\n",
              "<style scoped>\n",
              "    .dataframe tbody tr th:only-of-type {\n",
              "        vertical-align: middle;\n",
              "    }\n",
              "\n",
              "    .dataframe tbody tr th {\n",
              "        vertical-align: top;\n",
              "    }\n",
              "\n",
              "    .dataframe thead th {\n",
              "        text-align: right;\n",
              "    }\n",
              "</style>\n",
              "<table border=\"1\" class=\"dataframe\">\n",
              "  <thead>\n",
              "    <tr style=\"text-align: right;\">\n",
              "      <th></th>\n",
              "      <th>Pregnancies</th>\n",
              "      <th>Glucose</th>\n",
              "      <th>BloodPressure</th>\n",
              "      <th>SkinThickness</th>\n",
              "      <th>Insulin</th>\n",
              "      <th>BMI</th>\n",
              "      <th>DiabetesPedigreeFunction</th>\n",
              "      <th>Age</th>\n",
              "      <th>Outcome</th>\n",
              "    </tr>\n",
              "  </thead>\n",
              "  <tbody>\n",
              "    <tr>\n",
              "      <th>count</th>\n",
              "      <td>768.000000</td>\n",
              "      <td>768.000000</td>\n",
              "      <td>768.000000</td>\n",
              "      <td>768.000000</td>\n",
              "      <td>768.000000</td>\n",
              "      <td>768.000000</td>\n",
              "      <td>768.000000</td>\n",
              "      <td>768.000000</td>\n",
              "      <td>768.000000</td>\n",
              "    </tr>\n",
              "    <tr>\n",
              "      <th>mean</th>\n",
              "      <td>3.845052</td>\n",
              "      <td>120.894531</td>\n",
              "      <td>69.105469</td>\n",
              "      <td>20.536458</td>\n",
              "      <td>79.799479</td>\n",
              "      <td>31.992578</td>\n",
              "      <td>0.471876</td>\n",
              "      <td>33.240885</td>\n",
              "      <td>0.348958</td>\n",
              "    </tr>\n",
              "    <tr>\n",
              "      <th>std</th>\n",
              "      <td>3.369578</td>\n",
              "      <td>31.972618</td>\n",
              "      <td>19.355807</td>\n",
              "      <td>15.952218</td>\n",
              "      <td>115.244002</td>\n",
              "      <td>7.884160</td>\n",
              "      <td>0.331329</td>\n",
              "      <td>11.760232</td>\n",
              "      <td>0.476951</td>\n",
              "    </tr>\n",
              "    <tr>\n",
              "      <th>min</th>\n",
              "      <td>0.000000</td>\n",
              "      <td>0.000000</td>\n",
              "      <td>0.000000</td>\n",
              "      <td>0.000000</td>\n",
              "      <td>0.000000</td>\n",
              "      <td>0.000000</td>\n",
              "      <td>0.078000</td>\n",
              "      <td>21.000000</td>\n",
              "      <td>0.000000</td>\n",
              "    </tr>\n",
              "    <tr>\n",
              "      <th>25%</th>\n",
              "      <td>1.000000</td>\n",
              "      <td>99.000000</td>\n",
              "      <td>62.000000</td>\n",
              "      <td>0.000000</td>\n",
              "      <td>0.000000</td>\n",
              "      <td>27.300000</td>\n",
              "      <td>0.243750</td>\n",
              "      <td>24.000000</td>\n",
              "      <td>0.000000</td>\n",
              "    </tr>\n",
              "    <tr>\n",
              "      <th>50%</th>\n",
              "      <td>3.000000</td>\n",
              "      <td>117.000000</td>\n",
              "      <td>72.000000</td>\n",
              "      <td>23.000000</td>\n",
              "      <td>30.500000</td>\n",
              "      <td>32.000000</td>\n",
              "      <td>0.372500</td>\n",
              "      <td>29.000000</td>\n",
              "      <td>0.000000</td>\n",
              "    </tr>\n",
              "    <tr>\n",
              "      <th>75%</th>\n",
              "      <td>6.000000</td>\n",
              "      <td>140.250000</td>\n",
              "      <td>80.000000</td>\n",
              "      <td>32.000000</td>\n",
              "      <td>127.250000</td>\n",
              "      <td>36.600000</td>\n",
              "      <td>0.626250</td>\n",
              "      <td>41.000000</td>\n",
              "      <td>1.000000</td>\n",
              "    </tr>\n",
              "    <tr>\n",
              "      <th>max</th>\n",
              "      <td>17.000000</td>\n",
              "      <td>199.000000</td>\n",
              "      <td>122.000000</td>\n",
              "      <td>99.000000</td>\n",
              "      <td>846.000000</td>\n",
              "      <td>67.100000</td>\n",
              "      <td>2.420000</td>\n",
              "      <td>81.000000</td>\n",
              "      <td>1.000000</td>\n",
              "    </tr>\n",
              "  </tbody>\n",
              "</table>\n",
              "</div>"
            ],
            "text/plain": [
              "       Pregnancies     Glucose  ...         Age     Outcome\n",
              "count   768.000000  768.000000  ...  768.000000  768.000000\n",
              "mean      3.845052  120.894531  ...   33.240885    0.348958\n",
              "std       3.369578   31.972618  ...   11.760232    0.476951\n",
              "min       0.000000    0.000000  ...   21.000000    0.000000\n",
              "25%       1.000000   99.000000  ...   24.000000    0.000000\n",
              "50%       3.000000  117.000000  ...   29.000000    0.000000\n",
              "75%       6.000000  140.250000  ...   41.000000    1.000000\n",
              "max      17.000000  199.000000  ...   81.000000    1.000000\n",
              "\n",
              "[8 rows x 9 columns]"
            ]
          },
          "metadata": {
            "tags": []
          },
          "execution_count": 10
        }
      ]
    },
    {
      "cell_type": "code",
      "metadata": {
        "colab": {
          "base_uri": "https://localhost:8080/",
          "height": 336
        },
        "id": "pgbYwNCI7PW8",
        "outputId": "d3e117c3-1ea9-4a38-bddb-a56615b6a451"
      },
      "source": [
        "#0의 갯수가 몇 개인지 확인\r\n",
        "plt.hist(diabetes_data[\"Glucose\"],bins=10)"
      ],
      "execution_count": null,
      "outputs": [
        {
          "output_type": "execute_result",
          "data": {
            "text/plain": [
              "(array([  5.,   0.,   4.,  32., 156., 211., 163.,  95.,  56.,  46.]),\n",
              " array([  0. ,  19.9,  39.8,  59.7,  79.6,  99.5, 119.4, 139.3, 159.2,\n",
              "        179.1, 199. ]),\n",
              " <a list of 10 Patch objects>)"
            ]
          },
          "metadata": {
            "tags": []
          },
          "execution_count": 11
        },
        {
          "output_type": "display_data",
          "data": {
            "image/png": "[encoded data removed]",
            "text/plain": [
              "<Figure size 432x288 with 1 Axes>"
            ]
          },
          "metadata": {
            "tags": [],
            "needs_background": "light"
          }
        }
      ]
    },
    {
      "cell_type": "code",
      "metadata": {
        "colab": {
          "base_uri": "https://localhost:8080/"
        },
        "id": "1mZiYwtb7Wyl",
        "outputId": "d68d05be-a90b-4bbb-e6d7-918755fbac5c"
      },
      "source": [
        "#0값이 있는 피처들에서 0값의 데이터 건수와 퍼센트 계산\r\n",
        "\r\n",
        "#0값을 검사한 피처명 리스트\r\n",
        "zero_features=[\"Glucose\",\"BloodPressure\",\"SkinThickness\",\"Insulin\",\"BMI\"]\r\n",
        "\r\n",
        "#전체 데이터 갯수\r\n",
        "total_cnt=diabetes_data[\"Glucose\"].count()\r\n",
        "\r\n",
        "for feature in zero_features: #피처별로 반복하며\r\n",
        "  zero_count=diabetes_data[diabetes_data[feature]==0][feature].count() #데이터 값이 0인 데이터 건수 추출\r\n",
        "  print(\"{0} 0 건수는 {1}, 퍼센트는 {2:.2f}%\".format(feature,zero_count,100*zero_count/total_cnt)) #퍼센트 계산"
      ],
      "execution_count": null,
      "outputs": [
        {
          "output_type": "stream",
          "text": [
            "Glucose 0 건수는 5, 퍼센트는 0.65%\n",
            "BloodPressure 0 건수는 35, 퍼센트는 4.56%\n",
            "SkinThickness 0 건수는 227, 퍼센트는 29.56%\n",
            "Insulin 0 건수는 374, 퍼센트는 48.70%\n",
            "BMI 0 건수는 11, 퍼센트는 1.43%\n"
          ],
          "name": "stdout"
        }
      ]
    },
    {
      "cell_type": "code",
      "metadata": {
        "id": "hyXSbRQR8S_J"
      },
      "source": [
        "#0값을 평균값으로 대체\r\n",
        "mean_zero_features=diabetes_data[zero_features].mean() #zero_features 리스트 내부의 저장된 개별 feature에 대해서 평균값 구하기\r\n",
        "diabetes_data[zero_features]=diabetes_data[zero_features].replace(0,mean_zero_features) #0을 평균값으로 대체"
      ],
      "execution_count": null,
      "outputs": []
    },
    {
      "cell_type": "code",
      "metadata": {
        "colab": {
          "base_uri": "https://localhost:8080/"
        },
        "id": "3PkCLPSx9069",
        "outputId": "dae4f256-7ca6-4dbc-dbc3-f904b2851378"
      },
      "source": [
        "X=diabetes_data.iloc[:,:-1]\r\n",
        "y=diabetes_data.iloc[:,-1]\r\n",
        "\r\n",
        "#StandatdScaler이용해 일괄적으로 스케일링 적용하고 0값을 평균값으로 대체해 학습, 평가\r\n",
        "scaler=StandardScaler()\r\n",
        "X_scaled=scaler.fit_transform(X)\r\n",
        "\r\n",
        "X_train,X_test,y_train,y_test=train_test_split(X_scaled,y,test_size=0.2,random_state=156,stratify=y)\r\n",
        "\r\n",
        "lr_clf=LogisticRegression()\r\n",
        "lr_clf.fit(X_train,y_train)\r\n",
        "pred=lr_clf.predict(X_test)\r\n",
        "pred_proba=lr_clf.predict_proba(X_test)[:,1]\r\n",
        "\r\n",
        "get_clf_eval(y_test,pred,pred_proba)"
      ],
      "execution_count": null,
      "outputs": [
        {
          "output_type": "stream",
          "text": [
            "오차행렬\n",
            "[[90 10]\n",
            " [21 33]]\n",
            "정확도: 0.7987,  정밀도: 0.7674, 재현율: 0.6111, F1: 0.6804, AUC: 0.8433\n"
          ],
          "name": "stdout"
        }
      ]
    },
    {
      "cell_type": "code",
      "metadata": {
        "colab": {
          "base_uri": "https://localhost:8080/"
        },
        "id": "rGC8axIj-rxb",
        "outputId": "4925cda2-578f-446f-eb92-9b1804748774"
      },
      "source": [
        "#분류 결정 임계값을 변경하며 성능 측정\r\n",
        "\r\n",
        "thresholds=[0.3,0.33,0.36,0.39,0.42,0.45,0.48,0.5]\r\n",
        "pred_proba=lr_clf.predict_proba(X_test)\r\n",
        "get_eval_by_threshold(y_test,pred_proba[:,1].reshape(-1,1),thresholds)\r\n"
      ],
      "execution_count": null,
      "outputs": [
        {
          "output_type": "stream",
          "text": [
            "임곗값:  0.3\n",
            "오차행렬\n",
            "[[67 33]\n",
            " [11 43]]\n",
            "정확도: 0.7143,  정밀도: 0.5658, 재현율: 0.7963, F1: 0.6615, AUC: 0.8433\n",
            "임곗값:  0.33\n",
            "오차행렬\n",
            "[[72 28]\n",
            " [12 42]]\n",
            "정확도: 0.7403,  정밀도: 0.6000, 재현율: 0.7778, F1: 0.6774, AUC: 0.8433\n",
            "임곗값:  0.36\n",
            "오차행렬\n",
            "[[76 24]\n",
            " [15 39]]\n",
            "정확도: 0.7468,  정밀도: 0.6190, 재현율: 0.7222, F1: 0.6667, AUC: 0.8433\n",
            "임곗값:  0.39\n",
            "오차행렬\n",
            "[[78 22]\n",
            " [16 38]]\n",
            "정확도: 0.7532,  정밀도: 0.6333, 재현율: 0.7037, F1: 0.6667, AUC: 0.8433\n",
            "임곗값:  0.42\n",
            "오차행렬\n",
            "[[84 16]\n",
            " [18 36]]\n",
            "정확도: 0.7792,  정밀도: 0.6923, 재현율: 0.6667, F1: 0.6792, AUC: 0.8433\n",
            "임곗값:  0.45\n",
            "오차행렬\n",
            "[[85 15]\n",
            " [18 36]]\n",
            "정확도: 0.7857,  정밀도: 0.7059, 재현율: 0.6667, F1: 0.6857, AUC: 0.8433\n",
            "임곗값:  0.48\n",
            "오차행렬\n",
            "[[88 12]\n",
            " [19 35]]\n",
            "정확도: 0.7987,  정밀도: 0.7447, 재현율: 0.6481, F1: 0.6931, AUC: 0.8433\n",
            "임곗값:  0.5\n",
            "오차행렬\n",
            "[[90 10]\n",
            " [21 33]]\n",
            "정확도: 0.7987,  정밀도: 0.7674, 재현율: 0.6111, F1: 0.6804, AUC: 0.8433\n"
          ],
          "name": "stdout"
        }
      ]
    },
    {
      "cell_type": "code",
      "metadata": {
        "colab": {
          "base_uri": "https://localhost:8080/"
        },
        "id": "4JxMC47N_MGs",
        "outputId": "db835867-9f9d-4125-e14a-8d6e97235eb6"
      },
      "source": [
        "#임계값을 0.48로 설정한 Binarizer 생성\r\n",
        "binarizer=Binarizer(threshold=0.48)\r\n",
        "#위에서 구한 lr_clf의 predict_proba()예측 확률 array에서 1에 해당하는 column값을 binarizer변환\r\n",
        "pred_th_048=binarizer.fit_transform(pred_proba[:,1].reshape(-1,1))\r\n",
        "\r\n",
        "get_clf_eval(y_test,pred_th_048,pred_proba[:,1])"
      ],
      "execution_count": null,
      "outputs": [
        {
          "output_type": "stream",
          "text": [
            "오차행렬\n",
            "[[88 12]\n",
            " [19 35]]\n",
            "정확도: 0.7987,  정밀도: 0.7447, 재현율: 0.6481, F1: 0.6931, AUC: 0.8433\n"
          ],
          "name": "stdout"
        }
      ]
    }
  ]
}