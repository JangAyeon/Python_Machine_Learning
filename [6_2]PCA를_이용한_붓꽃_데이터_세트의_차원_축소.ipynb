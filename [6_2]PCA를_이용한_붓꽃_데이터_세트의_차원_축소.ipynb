{
  "nbformat": 4,
  "nbformat_minor": 0,
  "metadata": {
    "colab": {
      "name": "[6_2]PCA를 이용한 붓꽃 데이터 세트의 차원 축소.ipynb",
      "provenance": [],
      "collapsed_sections": [],
      "authorship_tag": "ABX9TyNxuAAK1uXp4pZwlXu3ls5X",
      "include_colab_link": true
    },
    "kernelspec": {
      "name": "python3",
      "display_name": "Python 3"
    }
  },
  "cells": [
    {
      "cell_type": "markdown",
      "metadata": {
        "id": "view-in-github",
        "colab_type": "text"
      },
      "source": [
        "<a href=\"https://colab.research.google.com/github/JangAyeon/Python_Machine_Learning/blob/main/%5B6_2%5DPCA%EB%A5%BC_%EC%9D%B4%EC%9A%A9%ED%95%9C_%EB%B6%93%EA%BD%83_%EB%8D%B0%EC%9D%B4%ED%84%B0_%EC%84%B8%ED%8A%B8%EC%9D%98_%EC%B0%A8%EC%9B%90_%EC%B6%95%EC%86%8C.ipynb\" target=\"_parent\"><img src=\"https://colab.research.google.com/assets/colab-badge.svg\" alt=\"Open In Colab\"/></a>"
      ]
    },
    {
      "cell_type": "code",
      "metadata": {
        "id": "_if0NGLzGeGT"
      },
      "source": [
        "from sklearn.datasets import load_iris\r\n",
        "import pandas as pd\r\n",
        "import matplotlib.pyplot as plt\r\n",
        "%matplotlib inline\r\n",
        "\r\n",
        "from sklearn.preprocessing import StandardScaler\r\n",
        "from sklearn.decomposition import PCA\r\n",
        "\r\n",
        "from sklearn.ensemble import RandomForestClassifier\r\n",
        "from sklearn.model_selection import cross_val_score\r\n",
        "import numpy as np"
      ],
      "execution_count": 24,
      "outputs": []
    },
    {
      "cell_type": "code",
      "metadata": {
        "colab": {
          "base_uri": "https://localhost:8080/",
          "height": 204
        },
        "id": "IWHYwc7hGpZC",
        "outputId": "f3cd6383-4125-4fb3-a14e-d547bfbdde7e"
      },
      "source": [
        "iris=load_iris()\r\n",
        "\r\n",
        "columns=[\"sepal_length\",\"sepal_width\",\"petal_length\",\"petal_width\"]\r\n",
        "iris_df=pd.DataFrame(iris.data,columns=columns)\r\n",
        "iris_df[\"target\"]=iris.target\r\n",
        "iris_df.head()"
      ],
      "execution_count": 2,
      "outputs": [
        {
          "output_type": "execute_result",
          "data": {
            "text/html": [
              "<div>\n",
              "<style scoped>\n",
              "    .dataframe tbody tr th:only-of-type {\n",
              "        vertical-align: middle;\n",
              "    }\n",
              "\n",
              "    .dataframe tbody tr th {\n",
              "        vertical-align: top;\n",
              "    }\n",
              "\n",
              "    .dataframe thead th {\n",
              "        text-align: right;\n",
              "    }\n",
              "</style>\n",
              "<table border=\"1\" class=\"dataframe\">\n",
              "  <thead>\n",
              "    <tr style=\"text-align: right;\">\n",
              "      <th></th>\n",
              "      <th>sepal_length</th>\n",
              "      <th>sepal_width</th>\n",
              "      <th>petal_length</th>\n",
              "      <th>petal_width</th>\n",
              "      <th>target</th>\n",
              "    </tr>\n",
              "  </thead>\n",
              "  <tbody>\n",
              "    <tr>\n",
              "      <th>0</th>\n",
              "      <td>5.1</td>\n",
              "      <td>3.5</td>\n",
              "      <td>1.4</td>\n",
              "      <td>0.2</td>\n",
              "      <td>0</td>\n",
              "    </tr>\n",
              "    <tr>\n",
              "      <th>1</th>\n",
              "      <td>4.9</td>\n",
              "      <td>3.0</td>\n",
              "      <td>1.4</td>\n",
              "      <td>0.2</td>\n",
              "      <td>0</td>\n",
              "    </tr>\n",
              "    <tr>\n",
              "      <th>2</th>\n",
              "      <td>4.7</td>\n",
              "      <td>3.2</td>\n",
              "      <td>1.3</td>\n",
              "      <td>0.2</td>\n",
              "      <td>0</td>\n",
              "    </tr>\n",
              "    <tr>\n",
              "      <th>3</th>\n",
              "      <td>4.6</td>\n",
              "      <td>3.1</td>\n",
              "      <td>1.5</td>\n",
              "      <td>0.2</td>\n",
              "      <td>0</td>\n",
              "    </tr>\n",
              "    <tr>\n",
              "      <th>4</th>\n",
              "      <td>5.0</td>\n",
              "      <td>3.6</td>\n",
              "      <td>1.4</td>\n",
              "      <td>0.2</td>\n",
              "      <td>0</td>\n",
              "    </tr>\n",
              "  </tbody>\n",
              "</table>\n",
              "</div>"
            ],
            "text/plain": [
              "   sepal_length  sepal_width  petal_length  petal_width  target\n",
              "0           5.1          3.5           1.4          0.2       0\n",
              "1           4.9          3.0           1.4          0.2       0\n",
              "2           4.7          3.2           1.3          0.2       0\n",
              "3           4.6          3.1           1.5          0.2       0\n",
              "4           5.0          3.6           1.4          0.2       0"
            ]
          },
          "metadata": {
            "tags": []
          },
          "execution_count": 2
        }
      ]
    },
    {
      "cell_type": "code",
      "metadata": {
        "colab": {
          "base_uri": "https://localhost:8080/"
        },
        "id": "stsKeVtkI8RD",
        "outputId": "a01f317f-468a-49ac-fbdb-9dbcce0d4fc1"
      },
      "source": [
        "iris_df.shape"
      ],
      "execution_count": 10,
      "outputs": [
        {
          "output_type": "execute_result",
          "data": {
            "text/plain": [
              "(150, 5)"
            ]
          },
          "metadata": {
            "tags": []
          },
          "execution_count": 10
        }
      ]
    },
    {
      "cell_type": "markdown",
      "metadata": {
        "id": "UeJhndfMHLXU"
      },
      "source": [
        "#**sepal_length, sepal_width 두개의 속성으로 데이터 산포 시각화**"
      ]
    },
    {
      "cell_type": "code",
      "metadata": {
        "colab": {
          "base_uri": "https://localhost:8080/",
          "height": 283
        },
        "id": "F5HHGW6zHDd3",
        "outputId": "cb85600f-1a7e-4f47-ae29-448736e0750f"
      },
      "source": [
        "#setosa : 세모, versicolor : 네모, virginica : 동그라미 로 표현\r\n",
        "\r\n",
        "markers=[\"^\",\"s\",\"o\"]\r\n",
        "\r\n",
        "#setosa : 0, versicolor : 1, virginica : 2\r\n",
        "for i, marker in enumerate(markers):\r\n",
        "  x_axis_data=iris_df[iris_df[\"target\"]==i][\"sepal_length\"]\r\n",
        "  y_axis_data=iris_df[iris_df[\"target\"]==i][\"sepal_width\"]\r\n",
        "  plt.scatter(x_axis_data,y_axis_data,marker=marker,label=iris.target_names[i])\r\n",
        "\r\n",
        "plt.legend()\r\n",
        "plt.xlabel(\"sepal_length\")\r\n",
        "plt.ylabel(\"sepal_width\")\r\n",
        "plt.show()\r\n"
      ],
      "execution_count": 5,
      "outputs": [
        {
          "output_type": "display_data",
          "data": {
            "image/png": "[encoded data removed]",
            "text/plain": [
              "<Figure size 432x288 with 1 Axes>"
            ]
          },
          "metadata": {
            "tags": [],
            "needs_background": "light"
          }
        }
      ]
    },
    {
      "cell_type": "markdown",
      "metadata": {
        "id": "-oq9LSZFIgEt"
      },
      "source": [
        "#**평균 : 0, 분산 : 1 인 정규 분포로 원본 데이터 변환**"
      ]
    },
    {
      "cell_type": "code",
      "metadata": {
        "id": "n6QcAC3dH_C3"
      },
      "source": [
        "iris_scaled=StandardScaler().fit_transform(iris_df.iloc[:,:-1])"
      ],
      "execution_count": 9,
      "outputs": []
    },
    {
      "cell_type": "code",
      "metadata": {
        "colab": {
          "base_uri": "https://localhost:8080/"
        },
        "id": "L0GVYojEIvVb",
        "outputId": "1518be9b-e01d-4c3a-bd3c-a825e8fbb092"
      },
      "source": [
        "iris_scaled.shape"
      ],
      "execution_count": 11,
      "outputs": [
        {
          "output_type": "execute_result",
          "data": {
            "text/plain": [
              "(150, 4)"
            ]
          },
          "metadata": {
            "tags": []
          },
          "execution_count": 11
        }
      ]
    },
    {
      "cell_type": "markdown",
      "metadata": {
        "id": "hMujv1uxJDjc"
      },
      "source": [
        "#**PCA 변환 수행**"
      ]
    },
    {
      "cell_type": "code",
      "metadata": {
        "colab": {
          "base_uri": "https://localhost:8080/"
        },
        "id": "F_PWWIKRJBji",
        "outputId": "75492dae-8598-4c16-e00e-cf25f99f70e8"
      },
      "source": [
        "pca=PCA(n_components=2)\r\n",
        "\r\n",
        "#fit()과 transform()을 호출 -> PCA 변환 데이터 반환\r\n",
        "pca.fit(iris_scaled)\r\n",
        "iris_pca=pca.transform(iris_scaled)\r\n",
        "print(iris_pca.shape)"
      ],
      "execution_count": 16,
      "outputs": [
        {
          "output_type": "stream",
          "text": [
            "(150, 2)\n"
          ],
          "name": "stdout"
        }
      ]
    },
    {
      "cell_type": "code",
      "metadata": {
        "colab": {
          "base_uri": "https://localhost:8080/",
          "height": 204
        },
        "id": "9-4g9yf6JdxR",
        "outputId": "b4cd55f9-fa34-4388-dca7-4f2dbc8259a6"
      },
      "source": [
        "#pca로 변환된 데이터 칼럼명을 pca_component_1, pca_component_2로 명명\r\n",
        "\r\n",
        "pca_columns=[\"pca_component_1\",\"pca_component_2\"]\r\n",
        "iris_df_pca=pd.DataFrame(iris_pca,columns=pca_columns)\r\n",
        "iris_df_pca[\"target\"]=iris.target\r\n",
        "iris_df_pca.head()"
      ],
      "execution_count": 21,
      "outputs": [
        {
          "output_type": "execute_result",
          "data": {
            "text/html": [
              "<div>\n",
              "<style scoped>\n",
              "    .dataframe tbody tr th:only-of-type {\n",
              "        vertical-align: middle;\n",
              "    }\n",
              "\n",
              "    .dataframe tbody tr th {\n",
              "        vertical-align: top;\n",
              "    }\n",
              "\n",
              "    .dataframe thead th {\n",
              "        text-align: right;\n",
              "    }\n",
              "</style>\n",
              "<table border=\"1\" class=\"dataframe\">\n",
              "  <thead>\n",
              "    <tr style=\"text-align: right;\">\n",
              "      <th></th>\n",
              "      <th>pca_component_1</th>\n",
              "      <th>pca_component_2</th>\n",
              "      <th>target</th>\n",
              "    </tr>\n",
              "  </thead>\n",
              "  <tbody>\n",
              "    <tr>\n",
              "      <th>0</th>\n",
              "      <td>-2.264703</td>\n",
              "      <td>0.480027</td>\n",
              "      <td>0</td>\n",
              "    </tr>\n",
              "    <tr>\n",
              "      <th>1</th>\n",
              "      <td>-2.080961</td>\n",
              "      <td>-0.674134</td>\n",
              "      <td>0</td>\n",
              "    </tr>\n",
              "    <tr>\n",
              "      <th>2</th>\n",
              "      <td>-2.364229</td>\n",
              "      <td>-0.341908</td>\n",
              "      <td>0</td>\n",
              "    </tr>\n",
              "    <tr>\n",
              "      <th>3</th>\n",
              "      <td>-2.299384</td>\n",
              "      <td>-0.597395</td>\n",
              "      <td>0</td>\n",
              "    </tr>\n",
              "    <tr>\n",
              "      <th>4</th>\n",
              "      <td>-2.389842</td>\n",
              "      <td>0.646835</td>\n",
              "      <td>0</td>\n",
              "    </tr>\n",
              "  </tbody>\n",
              "</table>\n",
              "</div>"
            ],
            "text/plain": [
              "   pca_component_1  pca_component_2  target\n",
              "0        -2.264703         0.480027       0\n",
              "1        -2.080961        -0.674134       0\n",
              "2        -2.364229        -0.341908       0\n",
              "3        -2.299384        -0.597395       0\n",
              "4        -2.389842         0.646835       0"
            ]
          },
          "metadata": {
            "tags": []
          },
          "execution_count": 21
        }
      ]
    },
    {
      "cell_type": "markdown",
      "metadata": {
        "id": "OPSiZvqzKSL5"
      },
      "source": [
        "#**PCA로 차원 축소된 피쳐들로 데이터 산포도 시각화**"
      ]
    },
    {
      "cell_type": "code",
      "metadata": {
        "colab": {
          "base_uri": "https://localhost:8080/",
          "height": 280
        },
        "id": "QJeIDB4oJvDV",
        "outputId": "1c76cceb-3afa-4453-9c58-06e1039733a5"
      },
      "source": [
        "#setosa : 세모, versicolor : 네모, virginica : 동그라미 로 표현\r\n",
        "\r\n",
        "markers=[\"^\",\"s\",\"o\"]\r\n",
        "\r\n",
        "#setosa : 0, versicolor : 1, virginica : 2\r\n",
        "for i, marker in enumerate(markers):\r\n",
        "  x_axis_data=iris_df_pca[iris_df_pca[\"target\"]==i][\"pca_component_1\"]\r\n",
        "  y_axis_data=iris_df_pca[iris_df_pca[\"target\"]==i][\"pca_component_2\"]\r\n",
        "  plt.scatter(x_axis_data,y_axis_data,marker=marker,label=iris.target_names[i])\r\n",
        "\r\n",
        "plt.legend()\r\n",
        "plt.xlabel(\"sepal_length\")\r\n",
        "plt.ylabel(\"sepal_width\")\r\n",
        "plt.show()"
      ],
      "execution_count": 22,
      "outputs": [
        {
          "output_type": "display_data",
          "data": {
            "image/png": "[encoded data removed]",
            "text/plain": [
              "<Figure size 432x288 with 1 Axes>"
            ]
          },
          "metadata": {
            "tags": [],
            "needs_background": "light"
          }
        }
      ]
    },
    {
      "cell_type": "markdown",
      "metadata": {
        "id": "EAfIHvgyK8UW"
      },
      "source": [
        "#**각 PCA Component별 변동성 비율**"
      ]
    },
    {
      "cell_type": "code",
      "metadata": {
        "colab": {
          "base_uri": "https://localhost:8080/"
        },
        "id": "aqLejo1-Ki_J",
        "outputId": "fb06214f-6d76-4f76-85ad-cda7c1bd16b9"
      },
      "source": [
        "print(pca.explained_variance_ratio_)"
      ],
      "execution_count": 23,
      "outputs": [
        {
          "output_type": "stream",
          "text": [
            "[0.72962445 0.22850762]\n"
          ],
          "name": "stdout"
        }
      ]
    },
    {
      "cell_type": "markdown",
      "metadata": {
        "id": "j19_ZyWhLZZS"
      },
      "source": [
        "#**원본 데이터와 PCA 변환된 데이터 기반에서 예측 성능 비교**"
      ]
    },
    {
      "cell_type": "code",
      "metadata": {
        "colab": {
          "base_uri": "https://localhost:8080/"
        },
        "id": "bbT6TVfaLG2a",
        "outputId": "dc5dbecf-2b89-4d52-83d9-4ad9493842a6"
      },
      "source": [
        "rcf=RandomForestClassifier(random_state=156)\r\n",
        "scores=cross_val_score(rcf,iris.data,iris.target,scoring=\"accuracy\",cv=3)\r\n",
        "print(scores)\r\n",
        "print(np.mean(scores))"
      ],
      "execution_count": 26,
      "outputs": [
        {
          "output_type": "stream",
          "text": [
            "[0.98 0.94 0.96]\n",
            "0.96\n"
          ],
          "name": "stdout"
        }
      ]
    },
    {
      "cell_type": "code",
      "metadata": {
        "colab": {
          "base_uri": "https://localhost:8080/"
        },
        "id": "kO0tqospLsz8",
        "outputId": "846c2e66-11da-4e6b-8da9-73aa44f871f2"
      },
      "source": [
        "pca_X=iris_df_pca[[\"pca_component_1\",\"pca_component_2\"]]\r\n",
        "scores_pca=cross_val_score(rcf,pca_X,iris.target,scoring=\"accuracy\",cv=3)\r\n",
        "print(scores_pca)\r\n",
        "print(np.mean(scores_pca))"
      ],
      "execution_count": 27,
      "outputs": [
        {
          "output_type": "stream",
          "text": [
            "[0.88 0.88 0.88]\n",
            "0.88\n"
          ],
          "name": "stdout"
        }
      ]
    },
    {
      "cell_type": "code",
      "metadata": {
        "id": "TXO2Po5SMMx7"
      },
      "source": [
        ""
      ],
      "execution_count": null,
      "outputs": []
    }
  ]
}