{
  "nbformat": 4,
  "nbformat_minor": 0,
  "metadata": {
    "colab": {
      "name": "[6-3]LDA.ipynb",
      "provenance": [],
      "authorship_tag": "ABX9TyOUrGC6SZ6ksazv1UCezQKe",
      "include_colab_link": true
    },
    "kernelspec": {
      "name": "python3",
      "display_name": "Python 3"
    }
  },
  "cells": [
    {
      "cell_type": "markdown",
      "metadata": {
        "id": "view-in-github",
        "colab_type": "text"
      },
      "source": [
        "<a href=\"https://colab.research.google.com/github/JangAyeon/Python_Machine_Learning/blob/main/%5B6_3%5DLDA.ipynb\" target=\"_parent\"><img src=\"https://colab.research.google.com/assets/colab-badge.svg\" alt=\"Open In Colab\"/></a>"
      ]
    },
    {
      "cell_type": "markdown",
      "metadata": {
        "id": "JrjV4lWmysM2"
      },
      "source": [
        "#**붓꽃 데이터 셋에 LDA 적용하기**"
      ]
    },
    {
      "cell_type": "code",
      "metadata": {
        "id": "qRbD5wp1r20D"
      },
      "source": [
        "import pandas as pd\r\n",
        "import matplotlib.pyplot as plt\r\n",
        "%matplotlib inline\r\n",
        "\r\n",
        "from sklearn.discriminant_analysis import LinearDiscriminantAnalysis\r\n",
        "from sklearn.decomposition import PCA\r\n",
        "from sklearn.preprocessing import StandardScaler\r\n",
        "from sklearn.datasets import load_iris"
      ],
      "execution_count": 12,
      "outputs": []
    },
    {
      "cell_type": "code",
      "metadata": {
        "id": "_1k8KAPwy4DJ"
      },
      "source": [
        "iris=load_iris()\r\n",
        "iris_scaled=StandardScaler().fit_transform(iris.data)"
      ],
      "execution_count": 7,
      "outputs": []
    },
    {
      "cell_type": "code",
      "metadata": {
        "colab": {
          "base_uri": "https://localhost:8080/"
        },
        "id": "KOvdjb3GzLWl",
        "outputId": "56f9f491-4dd2-49ee-a4c6-85ee29b746c3"
      },
      "source": [
        "lda=LinearDiscriminantAnalysis(n_components=2)\r\n",
        "lda.fit(iris_scaled,iris.target)\r\n",
        "iris_lda=lda.transform(iris_scaled)\r\n",
        "print(iris_lda.shape)"
      ],
      "execution_count": 8,
      "outputs": [
        {
          "output_type": "stream",
          "text": [
            "(150, 2)\n"
          ],
          "name": "stdout"
        }
      ]
    },
    {
      "cell_type": "code",
      "metadata": {
        "colab": {
          "base_uri": "https://localhost:8080/",
          "height": 204
        },
        "id": "kyBvjevkzX14",
        "outputId": "4e5fe3df-134d-43b6-a9b5-d333799abe3f"
      },
      "source": [
        "lda_columns=[\"lda_component_1\",\"lda_component_2\"]\r\n",
        "iris_df_lda=pd.DataFrame(iris_lda,columns=lda_columns)\r\n",
        "iris_df_lda[\"target\"]=iris.target\r\n",
        "\r\n",
        "iris_df_lda.head()"
      ],
      "execution_count": 10,
      "outputs": [
        {
          "output_type": "execute_result",
          "data": {
            "text/html": [
              "<div>\n",
              "<style scoped>\n",
              "    .dataframe tbody tr th:only-of-type {\n",
              "        vertical-align: middle;\n",
              "    }\n",
              "\n",
              "    .dataframe tbody tr th {\n",
              "        vertical-align: top;\n",
              "    }\n",
              "\n",
              "    .dataframe thead th {\n",
              "        text-align: right;\n",
              "    }\n",
              "</style>\n",
              "<table border=\"1\" class=\"dataframe\">\n",
              "  <thead>\n",
              "    <tr style=\"text-align: right;\">\n",
              "      <th></th>\n",
              "      <th>lda_component_1</th>\n",
              "      <th>lda_component_2</th>\n",
              "      <th>target</th>\n",
              "    </tr>\n",
              "  </thead>\n",
              "  <tbody>\n",
              "    <tr>\n",
              "      <th>0</th>\n",
              "      <td>8.061800</td>\n",
              "      <td>0.300421</td>\n",
              "      <td>0</td>\n",
              "    </tr>\n",
              "    <tr>\n",
              "      <th>1</th>\n",
              "      <td>7.128688</td>\n",
              "      <td>-0.786660</td>\n",
              "      <td>0</td>\n",
              "    </tr>\n",
              "    <tr>\n",
              "      <th>2</th>\n",
              "      <td>7.489828</td>\n",
              "      <td>-0.265384</td>\n",
              "      <td>0</td>\n",
              "    </tr>\n",
              "    <tr>\n",
              "      <th>3</th>\n",
              "      <td>6.813201</td>\n",
              "      <td>-0.670631</td>\n",
              "      <td>0</td>\n",
              "    </tr>\n",
              "    <tr>\n",
              "      <th>4</th>\n",
              "      <td>8.132309</td>\n",
              "      <td>0.514463</td>\n",
              "      <td>0</td>\n",
              "    </tr>\n",
              "  </tbody>\n",
              "</table>\n",
              "</div>"
            ],
            "text/plain": [
              "   lda_component_1  lda_component_2  target\n",
              "0         8.061800         0.300421       0\n",
              "1         7.128688        -0.786660       0\n",
              "2         7.489828        -0.265384       0\n",
              "3         6.813201        -0.670631       0\n",
              "4         8.132309         0.514463       0"
            ]
          },
          "metadata": {
            "tags": []
          },
          "execution_count": 10
        }
      ]
    },
    {
      "cell_type": "code",
      "metadata": {
        "colab": {
          "base_uri": "https://localhost:8080/",
          "height": 284
        },
        "id": "nFTWBxJFz5Yj",
        "outputId": "3c43a17a-7661-4e80-ce81-eb0c77c22a55"
      },
      "source": [
        "#setosa : 세모, versicolor : 네모, virginica : 동그라미\r\n",
        "markers=[\"^\",\"s\",\"o\"]\r\n",
        "\r\n",
        "for i, marker in enumerate(markers):\r\n",
        "  x_axis_data=iris_df_lda[iris_df_lda[\"target\"]==i][\"lda_component_1\"]\r\n",
        "  y_axis_data=iris_df_lda[iris_df_lda[\"target\"]==i][\"lda_component_2\"]\r\n",
        "\r\n",
        "  plt.scatter(x_axis_data,y_axis_data,marker=marker,label=iris.target_names[i])\r\n",
        "\r\n",
        "plt.legend(loc=\"upper right\")\r\n",
        "plt.xlabel(\"lda_component_1\")\r\n",
        "plt.ylabel(\"lda_component_2\")\r\n",
        "plt.show()"
      ],
      "execution_count": 11,
      "outputs": [
        {
          "output_type": "display_data",
          "data": {
            "image/png": "[encoded data removed]",
            "text/plain": [
              "<Figure size 432x288 with 1 Axes>"
            ]
          },
          "metadata": {
            "tags": [],
            "needs_background": "light"
          }
        }
      ]
    },
    {
      "cell_type": "markdown",
      "metadata": {
        "id": "LD_bCU2D-vXf"
      },
      "source": [
        "#**PCA**"
      ]
    },
    {
      "cell_type": "code",
      "metadata": {
        "colab": {
          "base_uri": "https://localhost:8080/",
          "height": 204
        },
        "id": "y0qw48SA767C",
        "outputId": "75675b11-ff99-4fa8-c215-ce59c08b4550"
      },
      "source": [
        "iris=load_iris()\r\n",
        "columns=[\"sepal_length\",\"sepal_width\",\"petal_length\",\"petal_width\"]\r\n",
        "iris_df=pd.DataFrame(iris.data,columns=columns)\r\n",
        "iris_df[\"target\"]=iris.target\r\n",
        "iris_df.head()"
      ],
      "execution_count": 13,
      "outputs": [
        {
          "output_type": "execute_result",
          "data": {
            "text/html": [
              "<div>\n",
              "<style scoped>\n",
              "    .dataframe tbody tr th:only-of-type {\n",
              "        vertical-align: middle;\n",
              "    }\n",
              "\n",
              "    .dataframe tbody tr th {\n",
              "        vertical-align: top;\n",
              "    }\n",
              "\n",
              "    .dataframe thead th {\n",
              "        text-align: right;\n",
              "    }\n",
              "</style>\n",
              "<table border=\"1\" class=\"dataframe\">\n",
              "  <thead>\n",
              "    <tr style=\"text-align: right;\">\n",
              "      <th></th>\n",
              "      <th>sepal_length</th>\n",
              "      <th>sepal_width</th>\n",
              "      <th>petal_length</th>\n",
              "      <th>petal_width</th>\n",
              "      <th>target</th>\n",
              "    </tr>\n",
              "  </thead>\n",
              "  <tbody>\n",
              "    <tr>\n",
              "      <th>0</th>\n",
              "      <td>5.1</td>\n",
              "      <td>3.5</td>\n",
              "      <td>1.4</td>\n",
              "      <td>0.2</td>\n",
              "      <td>0</td>\n",
              "    </tr>\n",
              "    <tr>\n",
              "      <th>1</th>\n",
              "      <td>4.9</td>\n",
              "      <td>3.0</td>\n",
              "      <td>1.4</td>\n",
              "      <td>0.2</td>\n",
              "      <td>0</td>\n",
              "    </tr>\n",
              "    <tr>\n",
              "      <th>2</th>\n",
              "      <td>4.7</td>\n",
              "      <td>3.2</td>\n",
              "      <td>1.3</td>\n",
              "      <td>0.2</td>\n",
              "      <td>0</td>\n",
              "    </tr>\n",
              "    <tr>\n",
              "      <th>3</th>\n",
              "      <td>4.6</td>\n",
              "      <td>3.1</td>\n",
              "      <td>1.5</td>\n",
              "      <td>0.2</td>\n",
              "      <td>0</td>\n",
              "    </tr>\n",
              "    <tr>\n",
              "      <th>4</th>\n",
              "      <td>5.0</td>\n",
              "      <td>3.6</td>\n",
              "      <td>1.4</td>\n",
              "      <td>0.2</td>\n",
              "      <td>0</td>\n",
              "    </tr>\n",
              "  </tbody>\n",
              "</table>\n",
              "</div>"
            ],
            "text/plain": [
              "   sepal_length  sepal_width  petal_length  petal_width  target\n",
              "0           5.1          3.5           1.4          0.2       0\n",
              "1           4.9          3.0           1.4          0.2       0\n",
              "2           4.7          3.2           1.3          0.2       0\n",
              "3           4.6          3.1           1.5          0.2       0\n",
              "4           5.0          3.6           1.4          0.2       0"
            ]
          },
          "metadata": {
            "tags": []
          },
          "execution_count": 13
        }
      ]
    },
    {
      "cell_type": "code",
      "metadata": {
        "id": "CQsuAE3N87wd"
      },
      "source": [
        "iris_scaled=StandardScaler().fit_transform(iris_df.iloc[:,:-1])"
      ],
      "execution_count": 14,
      "outputs": []
    },
    {
      "cell_type": "code",
      "metadata": {
        "colab": {
          "base_uri": "https://localhost:8080/"
        },
        "id": "oByzlDE_96Aq",
        "outputId": "1a0835fe-7fd0-4024-b171-ff948ca98fc3"
      },
      "source": [
        "pca=PCA(n_components=2)\r\n",
        "pca.fit(iris_scaled)\r\n",
        "iris_pca=pca.transform(iris_scaled)\r\n",
        "print(iris_pca.shape)"
      ],
      "execution_count": 15,
      "outputs": [
        {
          "output_type": "stream",
          "text": [
            "(150, 2)\n"
          ],
          "name": "stdout"
        }
      ]
    },
    {
      "cell_type": "code",
      "metadata": {
        "colab": {
          "base_uri": "https://localhost:8080/",
          "height": 204
        },
        "id": "leiVbwF4-JIt",
        "outputId": "ca827f9a-253c-40ae-cbb2-2c77e0f5f592"
      },
      "source": [
        "pca_columns=[\"pca_component_1\",\"pca_component_2\"]\r\n",
        "iris_df_pca=pd.DataFrame(iris_pca,columns=pca_columns)\r\n",
        "iris_df_pca[\"target\"]=iris.target\r\n",
        "iris_df_pca.head()"
      ],
      "execution_count": 22,
      "outputs": [
        {
          "output_type": "execute_result",
          "data": {
            "text/html": [
              "<div>\n",
              "<style scoped>\n",
              "    .dataframe tbody tr th:only-of-type {\n",
              "        vertical-align: middle;\n",
              "    }\n",
              "\n",
              "    .dataframe tbody tr th {\n",
              "        vertical-align: top;\n",
              "    }\n",
              "\n",
              "    .dataframe thead th {\n",
              "        text-align: right;\n",
              "    }\n",
              "</style>\n",
              "<table border=\"1\" class=\"dataframe\">\n",
              "  <thead>\n",
              "    <tr style=\"text-align: right;\">\n",
              "      <th></th>\n",
              "      <th>pca_component_1</th>\n",
              "      <th>pca_component_2</th>\n",
              "      <th>target</th>\n",
              "    </tr>\n",
              "  </thead>\n",
              "  <tbody>\n",
              "    <tr>\n",
              "      <th>0</th>\n",
              "      <td>-2.264703</td>\n",
              "      <td>0.480027</td>\n",
              "      <td>0</td>\n",
              "    </tr>\n",
              "    <tr>\n",
              "      <th>1</th>\n",
              "      <td>-2.080961</td>\n",
              "      <td>-0.674134</td>\n",
              "      <td>0</td>\n",
              "    </tr>\n",
              "    <tr>\n",
              "      <th>2</th>\n",
              "      <td>-2.364229</td>\n",
              "      <td>-0.341908</td>\n",
              "      <td>0</td>\n",
              "    </tr>\n",
              "    <tr>\n",
              "      <th>3</th>\n",
              "      <td>-2.299384</td>\n",
              "      <td>-0.597395</td>\n",
              "      <td>0</td>\n",
              "    </tr>\n",
              "    <tr>\n",
              "      <th>4</th>\n",
              "      <td>-2.389842</td>\n",
              "      <td>0.646835</td>\n",
              "      <td>0</td>\n",
              "    </tr>\n",
              "  </tbody>\n",
              "</table>\n",
              "</div>"
            ],
            "text/plain": [
              "   pca_component_1  pca_component_2  target\n",
              "0        -2.264703         0.480027       0\n",
              "1        -2.080961        -0.674134       0\n",
              "2        -2.364229        -0.341908       0\n",
              "3        -2.299384        -0.597395       0\n",
              "4        -2.389842         0.646835       0"
            ]
          },
          "metadata": {
            "tags": []
          },
          "execution_count": 22
        }
      ]
    },
    {
      "cell_type": "code",
      "metadata": {
        "colab": {
          "base_uri": "https://localhost:8080/",
          "height": 280
        },
        "id": "qyvJ_Jog-cb2",
        "outputId": "d2cefea4-23cf-44b5-845f-f9684f1dac1a"
      },
      "source": [
        "#pca_component_1 을 x축, pc_component_2를 y축으로 scatter plot 수행. \r\n",
        "for i, marker in enumerate(markers):\r\n",
        "    x_axis_data = iris_df_pca[iris_df_pca['target']==i]['pca_component_1']\r\n",
        "    y_axis_data = iris_df_pca[iris_df_pca['target']==i]['pca_component_2']\r\n",
        "    plt.scatter(x_axis_data, y_axis_data, marker=marker,label=iris.target_names[i])\r\n",
        "\r\n",
        "plt.legend()\r\n",
        "plt.xlabel('pca_component_1')\r\n",
        "plt.ylabel('pca_component_2')\r\n",
        "plt.show()"
      ],
      "execution_count": 23,
      "outputs": [
        {
          "output_type": "display_data",
          "data": {
            "image/png": "[encoded data removed]",
            "text/plain": [
              "<Figure size 432x288 with 1 Axes>"
            ]
          },
          "metadata": {
            "tags": [],
            "needs_background": "light"
          }
        }
      ]
    },
    {
      "cell_type": "code",
      "metadata": {
        "id": "uc1EsJD_-kLP"
      },
      "source": [
        ""
      ],
      "execution_count": null,
      "outputs": []
    }
  ]
}