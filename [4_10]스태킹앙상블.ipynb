{
  "nbformat": 4,
  "nbformat_minor": 0,
  "metadata": {
    "colab": {
      "name": "[4_10]스태킹 앙상블.ipynb",
      "provenance": [],
      "collapsed_sections": [],
      "authorship_tag": "ABX9TyOjeFZbtf8j/peo1mSFywtO",
      "include_colab_link": true
    },
    "kernelspec": {
      "name": "python3",
      "display_name": "Python 3"
    }
  },
  "cells": [
    {
      "cell_type": "markdown",
      "metadata": {
        "id": "view-in-github",
        "colab_type": "text"
      },
      "source": [
        "<a href=\"https://colab.research.google.com/github/JangAyeon/Python_Machine_Learning/blob/main/%5B4_10%5D%EC%8A%A4%ED%83%9C%ED%82%B9_%EC%95%99%EC%83%81%EB%B8%94.ipynb\" target=\"_parent\"><img src=\"https://colab.research.google.com/assets/colab-badge.svg\" alt=\"Open In Colab\"/></a>"
      ]
    },
    {
      "cell_type": "markdown",
      "metadata": {
        "id": "U4ZWuMXAcoaI"
      },
      "source": [
        "#기본 스태킹 모델"
      ]
    },
    {
      "cell_type": "markdown",
      "metadata": {
        "id": "_npc8q9Sc2BN"
      },
      "source": [
        "**데이터 로딩**"
      ]
    },
    {
      "cell_type": "code",
      "metadata": {
        "id": "OeJcARdUclJ0"
      },
      "source": [
        "import numpy as np\r\n",
        "\r\n",
        "from sklearn.neighbors import KNeighborsClassifier\r\n",
        "from sklearn.ensemble import RandomForestClassifier\r\n",
        "from sklearn.ensemble import AdaBoostClassifier\r\n",
        "from sklearn.tree import DecisionTreeClassifier\r\n",
        "from sklearn.linear_model import LogisticRegression\r\n",
        "\r\n",
        "from sklearn.datasets import load_breast_cancer\r\n",
        "from sklearn.model_selection import train_test_split\r\n",
        "from sklearn.metrics import accuracy_score"
      ],
      "execution_count": 1,
      "outputs": []
    },
    {
      "cell_type": "code",
      "metadata": {
        "id": "0lJgny0UcrIw"
      },
      "source": [
        "cancer_data=load_breast_cancer()\r\n",
        "\r\n",
        "X_data=cancer_data.data\r\n",
        "y_label=cancer_data.target\r\n",
        "\r\n",
        "X_train,X_test,y_train,y_test=train_test_split(X_data,y_label,test_size=0.2,random_state=0)"
      ],
      "execution_count": 2,
      "outputs": []
    },
    {
      "cell_type": "markdown",
      "metadata": {
        "id": "Gpum_bXjeELt"
      },
      "source": [
        "**개별 Classifier와 최종 Stacking 데이터를 학습할 메타 Classifier 생성**"
      ]
    },
    {
      "cell_type": "code",
      "metadata": {
        "id": "3bpy_rFwcrhN"
      },
      "source": [
        "#개별 ML 모델을 위한 Classifier 생성\r\n",
        "knn_clf=KNeighborsClassifier(n_neighbors=4)\r\n",
        "rf_clf=RandomForestClassifier(n_estimators=100,random_state=0)\r\n",
        "dt_clf=DecisionTreeClassifier()\r\n",
        "ada_clf=AdaBoostClassifier(n_estimators=100)\r\n",
        "#최종 Stacking 모델을 위한 Classifier 생성\r\n",
        "lr_final=LogisticRegression(C=10)"
      ],
      "execution_count": 3,
      "outputs": []
    },
    {
      "cell_type": "markdown",
      "metadata": {
        "id": "ThAvT36Dejc3"
      },
      "source": [
        "**개별 Classifier 학습/예측/평가**"
      ]
    },
    {
      "cell_type": "code",
      "metadata": {
        "colab": {
          "base_uri": "https://localhost:8080/"
        },
        "id": "ljcMS01kenBX",
        "outputId": "bb87233f-542d-4ea6-c949-76c310b0ffb0"
      },
      "source": [
        "#개별 모델 학습\r\n",
        "knn_clf.fit(X_train,y_train)\r\n",
        "rf_clf.fit(X_train,y_train)\r\n",
        "dt_clf.fit(X_train,y_train)\r\n",
        "ada_clf.fit(X_train,y_train)"
      ],
      "execution_count": 4,
      "outputs": [
        {
          "output_type": "execute_result",
          "data": {
            "text/plain": [
              "AdaBoostClassifier(algorithm='SAMME.R', base_estimator=None, learning_rate=1.0,\n",
              "                   n_estimators=100, random_state=None)"
            ]
          },
          "metadata": {
            "tags": []
          },
          "execution_count": 4
        }
      ]
    },
    {
      "cell_type": "code",
      "metadata": {
        "colab": {
          "base_uri": "https://localhost:8080/"
        },
        "id": "iFdeWMQIfSh8",
        "outputId": "f2cef268-3715-4c50-bc00-43b07ad84c24"
      },
      "source": [
        "#학습된 개별 모델들이 각자 반환하는 예측 데이터 셋을 생성하고 개별 모델의 정확도 측정\r\n",
        "knn_pred=knn_clf.predict(X_test)\r\n",
        "rf_pred=rf_clf.predict(X_test)\r\n",
        "dt_pred=dt_clf.predict(X_test)\r\n",
        "ada_pred=ada_clf.predict(X_test)\r\n",
        "\r\n",
        "print(\"KNN 정확도: {0:.4f}\".format(accuracy_score(y_test,knn_pred)))\r\n",
        "print(\"랜덤 포레스트 정확도: {0:.4f}\".format(accuracy_score(y_test,rf_pred)))\r\n",
        "print(\"결정 트리 정확도: {0:.4f}\".format(accuracy_score(y_test,dt_pred)))\r\n",
        "print(\"에이다부스트 정확도: {0:.4f}\".format(accuracy_score(y_test,ada_pred)))"
      ],
      "execution_count": 5,
      "outputs": [
        {
          "output_type": "stream",
          "text": [
            "KNN 정확도: 0.9211\n",
            "랜덤 포레스트 정확도: 0.9649\n",
            "결정 트리 정확도: 0.9035\n",
            "에이다부스트 정확도: 0.9561\n"
          ],
          "name": "stdout"
        }
      ]
    },
    {
      "cell_type": "markdown",
      "metadata": {
        "id": "yWhVy9E6gFyU"
      },
      "source": [
        "**개별 모델의 예측 결과를 메타 모델이 학습할 수 있도록 스태킹 형태로 재생성**"
      ]
    },
    {
      "cell_type": "code",
      "metadata": {
        "colab": {
          "base_uri": "https://localhost:8080/"
        },
        "id": "N7DsmJ8ngOXK",
        "outputId": "c59a9844-9859-486d-b0c7-b1e228577b44"
      },
      "source": [
        "pred=np.array([knn_pred,rf_pred,dt_pred,ada_pred])\r\n",
        "print(pred.shape)\r\n",
        "#transpose를 이용해 행과 열의 위치 교환. 칼럼 레벨로 각 알고리즘의 예측결과를 피처로 만듦\r\n",
        "pred=np.transpose(pred)\r\n",
        "print(pred.shape)"
      ],
      "execution_count": 6,
      "outputs": [
        {
          "output_type": "stream",
          "text": [
            "(4, 114)\n",
            "(114, 4)\n"
          ],
          "name": "stdout"
        }
      ]
    },
    {
      "cell_type": "markdown",
      "metadata": {
        "id": "NVbVJcK5gLvb"
      },
      "source": [
        "**메타 모델 학습/예측/평가**"
      ]
    },
    {
      "cell_type": "code",
      "metadata": {
        "colab": {
          "base_uri": "https://localhost:8080/"
        },
        "id": "5iuFnYElgPJW",
        "outputId": "2daea130-9217-4735-828a-5b78fc4b7a5a"
      },
      "source": [
        "lr_final.fit(pred,y_test)\r\n",
        "final=lr_final.predict(pred)\r\n",
        "\r\n",
        "print(\"최종 메타 모델의 예측 정확도: {0:.4f}\".format(accuracy_score(y_test,final)))"
      ],
      "execution_count": 7,
      "outputs": [
        {
          "output_type": "stream",
          "text": [
            "최종 메타 모델의 예측 정확도: 0.9737\n"
          ],
          "name": "stdout"
        }
      ]
    },
    {
      "cell_type": "markdown",
      "metadata": {
        "id": "mXccGvD3cr6x"
      },
      "source": [
        "#CV 세트 기반의 스태킹"
      ]
    },
    {
      "cell_type": "code",
      "metadata": {
        "id": "2k2g9uBqcves"
      },
      "source": [
        "from sklearn.model_selection import KFold\r\n",
        "from sklearn.metrics import mean_absolute_error"
      ],
      "execution_count": 13,
      "outputs": []
    },
    {
      "cell_type": "code",
      "metadata": {
        "id": "z_-je3ithLCH"
      },
      "source": [
        "#개별 기반 모델에서 최종 메타 모델이 사용할 학습/테스터 데이터 생성하는 함수\r\n",
        "\r\n",
        "def get_stacking_base_datasets(model,X_train_n,y_train_n,X_test_n,n_folds):\r\n",
        "\r\n",
        "  # n_folds 이용해 KFold 생성\r\n",
        "  kf=KFold(n_splits=n_folds,shuffle=False,random_state=0)\r\n",
        "\r\n",
        "  # 이따가 메타 모델이 사용할 학습 데이터 반환을 위한 넘파이 배열 초기화\r\n",
        "  train_fold_pred=np.zeros((X_train_n.shape[0],1))\r\n",
        "  test_pred=np.zeros((X_test_n.shape[0],n_folds))\r\n",
        "  print(model.__class__.__name__,\"model 시작\")\r\n",
        "\r\n",
        "\r\n",
        "  for folder_counter,(train_index,valid_index) in enumerate(kf.split(X_train_n)): #학습 데이터 입력\r\n",
        "    print(\"\\t 폴드 세트: \",folder_counter,\"시작\") #기반 모델이 학습/예측할 폴드 데이터 셋 추출\r\n",
        "    X_tr=X_train_n[train_index]\r\n",
        "    y_tr=y_train_n[train_index]\r\n",
        "    X_te=X_train_n[valid_index]\r\n",
        "\r\n",
        "    #폴드 세트 내부에서 다시 만들어진 학습 데이터로 기반 모델의 학습 수행\r\n",
        "    model.fit(X_tr,y_tr)\r\n",
        "\r\n",
        "    #폴드 세트 내부에서 다시 만들어진 검증 데이터로 기반 모델 예측 후 데이터 저장\r\n",
        "    train_fold_pred[valid_index,:]=model.predict(X_te).reshape(-1,1)\r\n",
        "\r\n",
        "    #입력된 원본 테스트 데이터를 폴드 세트내 학습된 기반 모델에서 예측 후 데이터 저장\r\n",
        "    test_pred[:,folder_counter]=model.predict(X_test_n)\r\n",
        "  \r\n",
        "  #폴드 세트 내에서 원본 테스트 데이터를 예측한 데이터를 평균하여 테스트 데이터로 생성\r\n",
        "  test_pred_mean=np.mean(test_pred,axis=1).reshape(-1,1)\r\n",
        "  \r\n",
        "  #train_fold_pred: 최종 메타 모델이 사용하는 학습 데이터, test_pred_mean: 테스트 데이터\r\n",
        "  return train_fold_pred,test_pred_mean"
      ],
      "execution_count": 20,
      "outputs": []
    },
    {
      "cell_type": "code",
      "metadata": {
        "colab": {
          "base_uri": "https://localhost:8080/"
        },
        "id": "O7Bi-gVihqoz",
        "outputId": "b9b32a5d-ebd7-4822-b649-2039d3e44772"
      },
      "source": [
        "knn_train,knn_test=get_stacking_base_datasets(knn_clf,X_train,y_train,X_test,7)\r\n",
        "rf_train,rf_test=get_stacking_base_datasets(rf_clf,X_train,y_train,X_test,7)\r\n",
        "dt_train,dt_test=get_stacking_base_datasets(dt_clf,X_train,y_train,X_test,7)\r\n",
        "ada_train,ada_test=get_stacking_base_datasets(ada_clf,X_train,y_train,X_test,7)"
      ],
      "execution_count": 21,
      "outputs": [
        {
          "output_type": "stream",
          "text": [
            "/usr/local/lib/python3.6/dist-packages/sklearn/model_selection/_split.py:296: FutureWarning: Setting a random_state has no effect since shuffle is False. This will raise an error in 0.24. You should leave random_state to its default (None), or set shuffle=True.\n",
            "  FutureWarning\n",
            "/usr/local/lib/python3.6/dist-packages/sklearn/model_selection/_split.py:296: FutureWarning: Setting a random_state has no effect since shuffle is False. This will raise an error in 0.24. You should leave random_state to its default (None), or set shuffle=True.\n",
            "  FutureWarning\n"
          ],
          "name": "stderr"
        },
        {
          "output_type": "stream",
          "text": [
            "KNeighborsClassifier model 시작\n",
            "\t 폴드 세트:  0 시작\n",
            "\t 폴드 세트:  1 시작\n",
            "\t 폴드 세트:  2 시작\n",
            "\t 폴드 세트:  3 시작\n",
            "\t 폴드 세트:  4 시작\n",
            "\t 폴드 세트:  5 시작\n",
            "\t 폴드 세트:  6 시작\n",
            "RandomForestClassifier model 시작\n",
            "\t 폴드 세트:  0 시작\n",
            "\t 폴드 세트:  1 시작\n",
            "\t 폴드 세트:  2 시작\n",
            "\t 폴드 세트:  3 시작\n",
            "\t 폴드 세트:  4 시작\n",
            "\t 폴드 세트:  5 시작\n",
            "\t 폴드 세트:  6 시작\n"
          ],
          "name": "stdout"
        },
        {
          "output_type": "stream",
          "text": [
            "/usr/local/lib/python3.6/dist-packages/sklearn/model_selection/_split.py:296: FutureWarning: Setting a random_state has no effect since shuffle is False. This will raise an error in 0.24. You should leave random_state to its default (None), or set shuffle=True.\n",
            "  FutureWarning\n",
            "/usr/local/lib/python3.6/dist-packages/sklearn/model_selection/_split.py:296: FutureWarning: Setting a random_state has no effect since shuffle is False. This will raise an error in 0.24. You should leave random_state to its default (None), or set shuffle=True.\n",
            "  FutureWarning\n"
          ],
          "name": "stderr"
        },
        {
          "output_type": "stream",
          "text": [
            "DecisionTreeClassifier model 시작\n",
            "\t 폴드 세트:  0 시작\n",
            "\t 폴드 세트:  1 시작\n",
            "\t 폴드 세트:  2 시작\n",
            "\t 폴드 세트:  3 시작\n",
            "\t 폴드 세트:  4 시작\n",
            "\t 폴드 세트:  5 시작\n",
            "\t 폴드 세트:  6 시작\n",
            "AdaBoostClassifier model 시작\n",
            "\t 폴드 세트:  0 시작\n",
            "\t 폴드 세트:  1 시작\n",
            "\t 폴드 세트:  2 시작\n",
            "\t 폴드 세트:  3 시작\n",
            "\t 폴드 세트:  4 시작\n",
            "\t 폴드 세트:  5 시작\n",
            "\t 폴드 세트:  6 시작\n"
          ],
          "name": "stdout"
        }
      ]
    },
    {
      "cell_type": "code",
      "metadata": {
        "colab": {
          "base_uri": "https://localhost:8080/"
        },
        "id": "LgTN6YAEjv2k",
        "outputId": "e1ae0e07-ed4e-445d-c131-5ade5096f877"
      },
      "source": [
        "Stack_final_X_train=np.concatenate((knn_train,rf_train,dt_train,ada_train),axis=1)\r\n",
        "Stack_final_X_test=np.concatenate((knn_test,rf_test,dt_test,ada_test),axis=1)\r\n",
        "\r\n",
        "print(\"원본 학습 피처 데이터 Shape: \",X_train.shape,\"원본 테스트 피처 Shape: \",X_test.shape)\r\n",
        "print(\"스태킹 학습 피쳐 데이터 Shape: \",Stack_final_X_train.shape)\r\n",
        "print(\"스태킹 테스트 피처 데이터 Shape: \",Stack_final_X_test.shape)"
      ],
      "execution_count": 22,
      "outputs": [
        {
          "output_type": "stream",
          "text": [
            "원본 학습 피처 데이터 Shape:  (455, 30) 원본 테스트 피처 Shape:  (114, 30)\n",
            "스태킹 학습 피쳐 데이터 Shape:  (455, 4)\n",
            "스태킹 테스트 피처 데이터 Shape:  (114, 4)\n"
          ],
          "name": "stdout"
        }
      ]
    },
    {
      "cell_type": "code",
      "metadata": {
        "colab": {
          "base_uri": "https://localhost:8080/"
        },
        "id": "xshIWMv_k-kY",
        "outputId": "ea3f4024-3a74-45d1-b849-8e451534d265"
      },
      "source": [
        "lr_final.fit(Stack_final_X_train,y_train)\r\n",
        "Stack_final=lr_final.predict(Stack_final_X_test)\r\n",
        "\r\n",
        "print(\"최종 메타 모델의 예측 정확도: {0:.4f}\".format(accuracy_score(y_test,Stack_final)))"
      ],
      "execution_count": 23,
      "outputs": [
        {
          "output_type": "stream",
          "text": [
            "최종 메타 모델의 예측 정확도: 0.9737\n"
          ],
          "name": "stdout"
        }
      ]
    },
    {
      "cell_type": "code",
      "metadata": {
        "id": "0UNdur3plYtA"
      },
      "source": [
        ""
      ],
      "execution_count": null,
      "outputs": []
    }
  ]
}
