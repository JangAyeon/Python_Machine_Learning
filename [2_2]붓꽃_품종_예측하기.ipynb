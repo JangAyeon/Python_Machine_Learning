{
  "nbformat": 4,
  "nbformat_minor": 0,
  "metadata": {
    "colab": {
      "name": "[2-2]붓꽃 품종 예측하기.ipynb",
      "provenance": [],
      "authorship_tag": "ABX9TyMZTBFJKpVYVnHaV6ntfydL",
      "include_colab_link": true
    },
    "kernelspec": {
      "name": "python3",
      "display_name": "Python 3"
    }
  },
  "cells": [
    {
      "cell_type": "markdown",
      "metadata": {
        "id": "view-in-github",
        "colab_type": "text"
      },
      "source": [
        "<a href=\"https://colab.research.google.com/github/JangAyeon/python_machine_learning/blob/main/%5B2_2%5D%EB%B6%93%EA%BD%83_%ED%92%88%EC%A2%85_%EC%98%88%EC%B8%A1%ED%95%98%EA%B8%B0.ipynb\" target=\"_parent\"><img src=\"https://colab.research.google.com/assets/colab-badge.svg\" alt=\"Open In Colab\"/></a>"
      ]
    },
    {
      "cell_type": "markdown",
      "metadata": {
        "id": "8rwMxVGG7yx1"
      },
      "source": [
        "#붓꽃 품종 예측 - Scikit Learning"
      ]
    },
    {
      "cell_type": "markdown",
      "metadata": {
        "id": "xdkJDwLi7KJE"
      },
      "source": [
        "**용어**\r\n",
        "\r\n",
        "*   Feature<br>\r\n",
        "data set의 속성\r\n",
        "\r\n",
        "*   Label, Class, 타켓값, 결정값<br>\r\n",
        "지도 학습 시 주어지는 정답 데이터\r\n",
        "\r\n",
        "\r\n",
        "*   지도학습<br>\r\n",
        "정답이 있는 데이터를 학습 후 미지의 데이터의 정답을 예측\r\n",
        "\r\n",
        "*   분류<br>\r\n",
        "train을 위한 feature와 label data로 모델을 학습한 뒤, 독립된 test data set에서 미지의 lavel 예측\r\n",
        "\r\n",
        "\r\n",
        "\r\n",
        "\r\n"
      ]
    },
    {
      "cell_type": "markdown",
      "metadata": {
        "id": "UlvVP1wV-z7b"
      },
      "source": [
        "**분류 예측 프로세스**\r\n",
        "\r\n",
        "1.   데이터 세트 분리<br>\r\n",
        "train data set & test data set\r\n",
        "2.   모델 학습<br>base on train data set, apply ML 알고리즘, train model\r\n",
        "3.   예측 수행<br>using trained ML model, predect label of test data\r\n",
        "4.   평가<br>evaluate prediction and real result\r\n",
        "\r\n",
        "\r\n"
      ]
    },
    {
      "cell_type": "markdown",
      "metadata": {
        "id": "JKTAeK4gB6KV"
      },
      "source": [
        "**사이킷런 필요 모듈 로딩**"
      ]
    },
    {
      "cell_type": "code",
      "metadata": {
        "colab": {
          "base_uri": "https://localhost:8080/"
        },
        "id": "NGtO049sADmE",
        "outputId": "2d666696-784f-4c4b-eb5a-c95557e132a1"
      },
      "source": [
        "#사이킷런 버전 확인\r\n",
        "import sklearn\r\n",
        "print(sklearn.__version__)\r\n",
        "\r\n",
        "from sklearn.datasets import load_iris #내장된 iris data set을 load\r\n",
        "from sklearn.tree import DecisionTreeClassifier #결정 트리 클래스\r\n",
        "from sklearn.model_selection import train_test_split #원본 data에서 train과 test data set을 분리"
      ],
      "execution_count": 3,
      "outputs": [
        {
          "output_type": "stream",
          "text": [
            "0.22.2.post1\n"
          ],
          "name": "stdout"
        }
      ]
    },
    {
      "cell_type": "markdown",
      "metadata": {
        "id": "NO_AqKiyCWse"
      },
      "source": [
        "**데이터 세트를 로딩**"
      ]
    },
    {
      "cell_type": "code",
      "metadata": {
        "colab": {
          "base_uri": "https://localhost:8080/",
          "height": 259
        },
        "id": "nT2EFwWUCQNE",
        "outputId": "b537b9f9-6214-4ece-fab9-5fa50f93b3f0"
      },
      "source": [
        "import pandas as pd\r\n",
        "\r\n",
        "#붓꽃 데이터 세트 로딩\r\n",
        "iris=load_iris()\r\n",
        "\r\n",
        "#data는 Numpy형태로 feature 값으로만 구성됨 [[,.,.,.,.],[,.,.,.,],[,.,.,.],  ..[  ]]\r\n",
        "iris_data=iris.data\r\n",
        "\r\n",
        "#target , 즉 결정값을 data 갯수만큼 가지고 있음\r\n",
        "iris_label=iris.target\r\n",
        "print(\"iris target값: \",iris_label)\r\n",
        "print(\"iris target명: \",iris.target_names)\r\n",
        "\r\n",
        "#dataframe으로 변환\r\n",
        "iris_df=pd.DataFrame(data=iris_data,columns=iris.feature_names)\r\n",
        "\r\n",
        "#label이라는 column 하나 추가하고 결정값(label) 할당\r\n",
        "iris_df['label']=iris.target\r\n",
        "iris_df.head(3)"
      ],
      "execution_count": 6,
      "outputs": [
        {
          "output_type": "stream",
          "text": [
            "iris target값:  [0 0 0 0 0 0 0 0 0 0 0 0 0 0 0 0 0 0 0 0 0 0 0 0 0 0 0 0 0 0 0 0 0 0 0 0 0\n",
            " 0 0 0 0 0 0 0 0 0 0 0 0 0 1 1 1 1 1 1 1 1 1 1 1 1 1 1 1 1 1 1 1 1 1 1 1 1\n",
            " 1 1 1 1 1 1 1 1 1 1 1 1 1 1 1 1 1 1 1 1 1 1 1 1 1 1 2 2 2 2 2 2 2 2 2 2 2\n",
            " 2 2 2 2 2 2 2 2 2 2 2 2 2 2 2 2 2 2 2 2 2 2 2 2 2 2 2 2 2 2 2 2 2 2 2 2 2\n",
            " 2 2]\n",
            "iris target명:  ['setosa' 'versicolor' 'virginica']\n"
          ],
          "name": "stdout"
        },
        {
          "output_type": "execute_result",
          "data": {
            "text/html": [
              "<div>\n",
              "<style scoped>\n",
              "    .dataframe tbody tr th:only-of-type {\n",
              "        vertical-align: middle;\n",
              "    }\n",
              "\n",
              "    .dataframe tbody tr th {\n",
              "        vertical-align: top;\n",
              "    }\n",
              "\n",
              "    .dataframe thead th {\n",
              "        text-align: right;\n",
              "    }\n",
              "</style>\n",
              "<table border=\"1\" class=\"dataframe\">\n",
              "  <thead>\n",
              "    <tr style=\"text-align: right;\">\n",
              "      <th></th>\n",
              "      <th>sepal length (cm)</th>\n",
              "      <th>sepal width (cm)</th>\n",
              "      <th>petal length (cm)</th>\n",
              "      <th>petal width (cm)</th>\n",
              "      <th>label</th>\n",
              "    </tr>\n",
              "  </thead>\n",
              "  <tbody>\n",
              "    <tr>\n",
              "      <th>0</th>\n",
              "      <td>5.1</td>\n",
              "      <td>3.5</td>\n",
              "      <td>1.4</td>\n",
              "      <td>0.2</td>\n",
              "      <td>0</td>\n",
              "    </tr>\n",
              "    <tr>\n",
              "      <th>1</th>\n",
              "      <td>4.9</td>\n",
              "      <td>3.0</td>\n",
              "      <td>1.4</td>\n",
              "      <td>0.2</td>\n",
              "      <td>0</td>\n",
              "    </tr>\n",
              "    <tr>\n",
              "      <th>2</th>\n",
              "      <td>4.7</td>\n",
              "      <td>3.2</td>\n",
              "      <td>1.3</td>\n",
              "      <td>0.2</td>\n",
              "      <td>0</td>\n",
              "    </tr>\n",
              "  </tbody>\n",
              "</table>\n",
              "</div>"
            ],
            "text/plain": [
              "   sepal length (cm)  sepal width (cm)  ...  petal width (cm)  label\n",
              "0                5.1               3.5  ...               0.2      0\n",
              "1                4.9               3.0  ...               0.2      0\n",
              "2                4.7               3.2  ...               0.2      0\n",
              "\n",
              "[3 rows x 5 columns]"
            ]
          },
          "metadata": {
            "tags": []
          },
          "execution_count": 6
        }
      ]
    },
    {
      "cell_type": "markdown",
      "metadata": {
        "id": "VRvBVpU1Hjiw"
      },
      "source": [
        "**학습 데이터와 테스트 데이터 세트로 분리**"
      ]
    },
    {
      "cell_type": "code",
      "metadata": {
        "id": "wM83DxEjFywn"
      },
      "source": [
        "X_train,X_test,y_train,y_test=train_test_split(iris_data,iris_label,test_size=0.2,random_state=11)\r\n",
        "\r\n",
        "#iris_data : feature set 할당\r\n",
        "#iris_label : target 값이 할당\r\n",
        "#test_size : 전체 data set의 20%"
      ],
      "execution_count": 12,
      "outputs": []
    },
    {
      "cell_type": "markdown",
      "metadata": {
        "id": "7E-ueInwHpdo"
      },
      "source": [
        "**학습 데이터 세트로 학습(train) 수행**"
      ]
    },
    {
      "cell_type": "code",
      "metadata": {
        "colab": {
          "base_uri": "https://localhost:8080/"
        },
        "id": "pTJd1o1vHwgR",
        "outputId": "81d1fd07-9f24-48ae-a54e-7c0633cf6439"
      },
      "source": [
        "#ML 알고리즘을 구현한 DecisionTreeClassifier를 부름\r\n",
        "df_clf=DecisionTreeClassifier(random_state=11)\r\n",
        "\r\n",
        "#학습 수행 -> 패턴 인식\r\n",
        "df_clf.fit(X_train,y_train)"
      ],
      "execution_count": 13,
      "outputs": [
        {
          "output_type": "execute_result",
          "data": {
            "text/plain": [
              "DecisionTreeClassifier(ccp_alpha=0.0, class_weight=None, criterion='gini',\n",
              "                       max_depth=None, max_features=None, max_leaf_nodes=None,\n",
              "                       min_impurity_decrease=0.0, min_impurity_split=None,\n",
              "                       min_samples_leaf=1, min_samples_split=2,\n",
              "                       min_weight_fraction_leaf=0.0, presort='deprecated',\n",
              "                       random_state=11, splitter='best')"
            ]
          },
          "metadata": {
            "tags": []
          },
          "execution_count": 13
        }
      ]
    },
    {
      "cell_type": "markdown",
      "metadata": {
        "id": "lf-Jpvw5MoQ-"
      },
      "source": [
        "**테스트 데이터 세트로 예측(Predict) 수행**"
      ]
    },
    {
      "cell_type": "code",
      "metadata": {
        "id": "wunC0DtzNA-7"
      },
      "source": [
        "#별도의 test_set의 feature data set 학습된 decisiontreeclassifier 객체에서 예측 수행\r\n",
        "pred=df_clf.predict(X_test)"
      ],
      "execution_count": 24,
      "outputs": []
    },
    {
      "cell_type": "code",
      "metadata": {
        "colab": {
          "base_uri": "https://localhost:8080/"
        },
        "id": "DGPu1iGENQ8w",
        "outputId": "4e3af161-35ed-463d-b56f-36ad4d291f4b"
      },
      "source": [
        "pred"
      ],
      "execution_count": 25,
      "outputs": [
        {
          "output_type": "execute_result",
          "data": {
            "text/plain": [
              "array([2, 2, 1, 1, 2, 0, 1, 0, 0, 1, 1, 1, 1, 2, 2, 0, 2, 1, 2, 2, 1, 0,\n",
              "       0, 1, 0, 0, 2, 1, 0, 1])"
            ]
          },
          "metadata": {
            "tags": []
          },
          "execution_count": 25
        }
      ]
    },
    {
      "cell_type": "markdown",
      "metadata": {
        "id": "zU98BSWLML9w"
      },
      "source": [
        "**예측 정확도 평가**"
      ]
    },
    {
      "cell_type": "code",
      "metadata": {
        "colab": {
          "base_uri": "https://localhost:8080/"
        },
        "id": "_owKWR3yIZtv",
        "outputId": "5f6d6d84-e3bb-4ce6-8b5d-b33faa30e92e"
      },
      "source": [
        "#test의 실제 타겟(y_test)와 예측값(pred)인 비교해서 정확성 파악\r\n",
        " \r\n",
        "from sklearn.metrics import accuracy_score\r\n",
        "print('예측 정확도 : {0:.4f}'.format(accuracy_score(y_test,pred)))"
      ],
      "execution_count": 27,
      "outputs": [
        {
          "output_type": "stream",
          "text": [
            "예측 정확도 : 0.9333\n"
          ],
          "name": "stdout"
        }
      ]
    }
  ]
}