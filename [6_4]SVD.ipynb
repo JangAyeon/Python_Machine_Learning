{
  "nbformat": 4,
  "nbformat_minor": 0,
  "metadata": {
    "colab": {
      "name": "[6_4]SVD.ipynb",
      "provenance": [],
      "collapsed_sections": [],
      "authorship_tag": "ABX9TyNs02f3mUBzbiY7oQN6+0hb",
      "include_colab_link": true
    },
    "kernelspec": {
      "name": "python3",
      "display_name": "Python 3"
    }
  },
  "cells": [
    {
      "cell_type": "markdown",
      "metadata": {
        "id": "view-in-github",
        "colab_type": "text"
      },
      "source": [
        "<a href=\"https://colab.research.google.com/github/JangAyeon/Python_Machine_Learning/blob/main/%5B6_4%5DSVD.ipynb\" target=\"_parent\"><img src=\"https://colab.research.google.com/assets/colab-badge.svg\" alt=\"Open In Colab\"/></a>"
      ]
    },
    {
      "cell_type": "markdown",
      "metadata": {
        "id": "qkDI0wSD_l3L"
      },
      "source": [
        "#**SVD 개요**"
      ]
    },
    {
      "cell_type": "code",
      "metadata": {
        "id": "3B4J7wQ9_R8H"
      },
      "source": [
        "import numpy as np\r\n",
        "from numpy.linalg import svd\r\n",
        "\r\n",
        "from scipy.sparse.linalg import svds\r\n",
        "from scipy.linalg import svd\r\n",
        "\r\n",
        "from sklearn.decomposition import TruncatedSVD,PCA\r\n",
        "from sklearn.datasets import load_iris\r\n",
        "import matplotlib.pyplot as plt\r\n",
        "%matplotlib inline\r\n",
        "\r\n",
        "from sklearn.preprocessing import StandardScaler"
      ],
      "execution_count": 21,
      "outputs": []
    },
    {
      "cell_type": "code",
      "metadata": {
        "colab": {
          "base_uri": "https://localhost:8080/"
        },
        "id": "nnnHjw4p_tTn",
        "outputId": "8ac88b86-9ae2-47b0-de5e-a15a5698206b"
      },
      "source": [
        "np.random.seed(121)\r\n",
        "a=np.random.randn(4,4)\r\n",
        "print(np.round(a,3))"
      ],
      "execution_count": 2,
      "outputs": [
        {
          "output_type": "stream",
          "text": [
            "[[-0.212 -0.285 -0.574 -0.44 ]\n",
            " [-0.33   1.184  1.615  0.367]\n",
            " [-0.014  0.63   1.71  -1.327]\n",
            " [ 0.402 -0.191  1.404 -1.969]]\n"
          ],
          "name": "stdout"
        }
      ]
    },
    {
      "cell_type": "markdown",
      "metadata": {
        "id": "jYjsxJxrAGXc"
      },
      "source": [
        "#**SVD 행렬 분해**"
      ]
    },
    {
      "cell_type": "code",
      "metadata": {
        "colab": {
          "base_uri": "https://localhost:8080/"
        },
        "id": "8WH51ATu_2pp",
        "outputId": "b05512c9-1211-4155-f5c2-01a90f1de5b0"
      },
      "source": [
        "U,Sigma,Vt=svd(a)\r\n",
        "print(U.shape,Sigma.shape,Vt.shape)\r\n",
        "print(\"U matrix:\\n\",np.round(U,3))\r\n",
        "print(\"Sigmma Value:\\n\",np.round(Sigma,3))\r\n",
        "print(\"V transpose matrix:\\n\",np.round(Vt,3))"
      ],
      "execution_count": 4,
      "outputs": [
        {
          "output_type": "stream",
          "text": [
            "(4, 4) (4,) (4, 4)\n",
            "U matrix:\n",
            " [[-0.079 -0.318  0.867  0.376]\n",
            " [ 0.383  0.787  0.12   0.469]\n",
            " [ 0.656  0.022  0.357 -0.664]\n",
            " [ 0.645 -0.529 -0.328  0.444]]\n",
            "Sigmma Value:\n",
            " [3.423 2.023 0.463 0.079]\n",
            "V transpose matrix:\n",
            " [[ 0.041  0.224  0.786 -0.574]\n",
            " [-0.2    0.562  0.37   0.712]\n",
            " [-0.778  0.395 -0.333 -0.357]\n",
            " [-0.593 -0.692  0.366  0.189]]\n"
          ],
          "name": "stdout"
        }
      ]
    },
    {
      "cell_type": "markdown",
      "metadata": {
        "id": "83AVDbGsA9ZB"
      },
      "source": [
        "#**분해된 행렬들을 이용해 다시 원행렬로 원복**"
      ]
    },
    {
      "cell_type": "code",
      "metadata": {
        "colab": {
          "base_uri": "https://localhost:8080/"
        },
        "id": "mXMUf3XIAR8q",
        "outputId": "8fbea98f-f13c-4e07-a0a7-864ab52b374c"
      },
      "source": [
        "#Sigma를 다시 0을 포함한 대칭행렬로 변환\r\n",
        "Sigma_mat=np.diag(Sigma)\r\n",
        "a_=np.dot(np.dot(U,Sigma_mat),Vt)\r\n",
        "print(np.round(a_,3))"
      ],
      "execution_count": 5,
      "outputs": [
        {
          "output_type": "stream",
          "text": [
            "[[-0.212 -0.285 -0.574 -0.44 ]\n",
            " [-0.33   1.184  1.615  0.367]\n",
            " [-0.014  0.63   1.71  -1.327]\n",
            " [ 0.402 -0.191  1.404 -1.969]]\n"
          ],
          "name": "stdout"
        }
      ]
    },
    {
      "cell_type": "markdown",
      "metadata": {
        "id": "YsDX2USFB3Yq"
      },
      "source": [
        "#**데이터 의존도가 높은 원본 데이터 행렬 생성**"
      ]
    },
    {
      "cell_type": "code",
      "metadata": {
        "colab": {
          "base_uri": "https://localhost:8080/"
        },
        "id": "mz76_4t5BQ8a",
        "outputId": "187bacd5-8711-4840-f95f-25b7c1998bfe"
      },
      "source": [
        "a[2]=a[0]+a[1]\r\n",
        "a[3]=a[0]\r\n",
        "print(np.round(a,3))"
      ],
      "execution_count": 6,
      "outputs": [
        {
          "output_type": "stream",
          "text": [
            "[[-0.212 -0.285 -0.574 -0.44 ]\n",
            " [-0.33   1.184  1.615  0.367]\n",
            " [-0.542  0.899  1.041 -0.073]\n",
            " [-0.212 -0.285 -0.574 -0.44 ]]\n"
          ],
          "name": "stdout"
        }
      ]
    },
    {
      "cell_type": "code",
      "metadata": {
        "colab": {
          "base_uri": "https://localhost:8080/"
        },
        "id": "KLTVqiLOCTIN",
        "outputId": "b1fc42f8-2482-49d1-c2d2-9d7ea78bdee8"
      },
      "source": [
        "#다시 SVD를 수행해 Sigma 값 확인\r\n",
        "U, Sigma, Vt=svd(a)\r\n",
        "print(U.shape,Sigma.shape,Vt.shape)\r\n",
        "print(\"Sigma Value:\\n\",np.round(Sigma,3))"
      ],
      "execution_count": 8,
      "outputs": [
        {
          "output_type": "stream",
          "text": [
            "(4, 4) (4,) (4, 4)\n",
            "Sigma Value:\n",
            " [2.663 0.807 0.    0.   ]\n"
          ],
          "name": "stdout"
        }
      ]
    },
    {
      "cell_type": "code",
      "metadata": {
        "colab": {
          "base_uri": "https://localhost:8080/"
        },
        "id": "lDirFOZvCzwr",
        "outputId": "6a68ecb5-4793-46e5-8287-0aaf5b2f3258"
      },
      "source": [
        "#U 행렬의 경우 Sigma와 내적을 수행하므로 Sigma의 앞 2행에 대응되는 앞 2열만 추출\r\n",
        "U_=U[:,:2]\r\n",
        "Sigma_=np.diag(Sigma[:2])\r\n",
        "#V 전치 행렬의 경우는 앞의 2행만 추출\r\n",
        "Vt_=Vt[:2]\r\n",
        "print(U_.shape,Sigma_.shape,Vt_.shape)\r\n",
        "#U,Sigma,Vt의 내적을 수행하며, 다시 원본 행렬 복원\r\n",
        "a_=np.dot(np.dot(U_,Sigma_),Vt_)\r\n",
        "print(np.round(a_,3))"
      ],
      "execution_count": 11,
      "outputs": [
        {
          "output_type": "stream",
          "text": [
            "(4, 2) (2, 2) (2, 4)\n",
            "[[-0.212 -0.285 -0.574 -0.44 ]\n",
            " [-0.33   1.184  1.615  0.367]\n",
            " [-0.542  0.899  1.041 -0.073]\n",
            " [-0.212 -0.285 -0.574 -0.44 ]]\n"
          ],
          "name": "stdout"
        }
      ]
    },
    {
      "cell_type": "markdown",
      "metadata": {
        "id": "W71M95MZFBZa"
      },
      "source": [
        "#**Truncated SVD**"
      ]
    },
    {
      "cell_type": "code",
      "metadata": {
        "colab": {
          "base_uri": "https://localhost:8080/"
        },
        "id": "EKRpu3FLEMiT",
        "outputId": "d96f0e44-8d49-473f-b5a0-9eb9c8b9a51e"
      },
      "source": [
        "#원본 행렬을 출력 -> SVD를 적용할 경우, U Sigma Vt의 차원 확인\r\n",
        "\r\n",
        "np.random.seed(121)\r\n",
        "matrix=np.random.random((6,6))\r\n",
        "print(\"원본 행렬:\\n\",matrix)\r\n",
        "U,Sigma,Vt=svd(matrix,full_matrices=False)\r\n",
        "print(\"\\n분해 행렬 차원: \", U.shape,Sigma.shape,Vt.shape)\r\n",
        "print(\"\\nSigma값 행렬:\",Sigma)"
      ],
      "execution_count": 13,
      "outputs": [
        {
          "output_type": "stream",
          "text": [
            "원본 행렬:\n",
            " [[0.11133083 0.21076757 0.23296249 0.15194456 0.83017814 0.40791941]\n",
            " [0.5557906  0.74552394 0.24849976 0.9686594  0.95268418 0.48984885]\n",
            " [0.01829731 0.85760612 0.40493829 0.62247394 0.29537149 0.92958852]\n",
            " [0.4056155  0.56730065 0.24575605 0.22573721 0.03827786 0.58098021]\n",
            " [0.82925331 0.77326256 0.94693849 0.73632338 0.67328275 0.74517176]\n",
            " [0.51161442 0.46920965 0.6439515  0.82081228 0.14548493 0.01806415]]\n",
            "\n",
            "분해 행렬 차원:  (6, 6) (6,) (6, 6)\n",
            "\n",
            "Sigma값 행렬: [3.2535007  0.88116505 0.83865238 0.55463089 0.35834824 0.0349925 ]\n"
          ],
          "name": "stdout"
        }
      ]
    },
    {
      "cell_type": "code",
      "metadata": {
        "colab": {
          "base_uri": "https://localhost:8080/"
        },
        "id": "TcjJZkPOGRqj",
        "outputId": "92e3db56-8970-4c39-9ad4-ad02d3b984e5"
      },
      "source": [
        "#Truncated SVD로 Sigma 행렬의 특이값을 5개로 하여 Truncated SVD 수행\r\n",
        "num_components=5\r\n",
        "U_tr, Sigma_tr,Vt_tr=svds(matrix,k=num_components)\r\n",
        "print(\"\\nTruncated SVD 분해 행렬 차원: \", U_tr.shape,Sigma_tr.shape,Vt_tr.shape)\r\n",
        "print(\"\\nTruncated SVD Sigma 값 행렬: \",Sigma_tr)\r\n",
        "\r\n",
        "#output of TruncatedSVD\r\n",
        "matrix_tr=np.dot(np.dot(U_tr,np.diag(Sigma_tr)),Vt_tr)\r\n",
        "print(\"\\nTruncated SVD로 분해 후 복원 행렬:\\n\", matrix_tr)"
      ],
      "execution_count": 16,
      "outputs": [
        {
          "output_type": "stream",
          "text": [
            "\n",
            "Truncated SVD 분해 행렬 차원:  (6, 5) (5,) (5, 6)\n",
            "\n",
            "Truncated SVD Sigma 값 행렬:  [0.35834824 0.55463089 0.83865238 0.88116505 3.2535007 ]\n",
            "\n",
            "Truncated SVD로 분해 후 복원 행렬:\n",
            " [[0.11368271 0.19721195 0.23106956 0.15961551 0.82758207 0.41695496]\n",
            " [0.55500167 0.75007112 0.24913473 0.96608621 0.95355502 0.48681791]\n",
            " [0.01789183 0.85994318 0.40526464 0.62115143 0.29581906 0.92803075]\n",
            " [0.40782587 0.55456069 0.24397702 0.23294659 0.035838   0.58947208]\n",
            " [0.82711496 0.78558742 0.94865955 0.7293489  0.67564311 0.73695659]\n",
            " [0.5136488  0.45748403 0.64231412 0.82744766 0.14323933 0.0258799 ]]\n"
          ],
          "name": "stdout"
        }
      ]
    },
    {
      "cell_type": "markdown",
      "metadata": {
        "id": "Ncf_3-BeMIUq"
      },
      "source": [
        "#**사이킷런 TruncatedSVD 클래스를 이용한 변환**"
      ]
    },
    {
      "cell_type": "code",
      "metadata": {
        "colab": {
          "base_uri": "https://localhost:8080/",
          "height": 297
        },
        "id": "ROoA-_jaHh_b",
        "outputId": "ecfe2a81-7586-411e-ed58-fab24808d33e"
      },
      "source": [
        "iris=load_iris()\r\n",
        "iris_ftrs=iris.data\r\n",
        "\r\n",
        "#2개의 주요 component로 TruncatedSVD 변환\r\n",
        "tsvd=TruncatedSVD(n_components=2)\r\n",
        "tsvd.fit(iris_ftrs)\r\n",
        "iris_tsvd=tsvd.transform(iris_ftrs)\r\n",
        "\r\n",
        "#Scatter plot 2차원으로 TruncatedSVD 변환된 데이터 표현. 품종은 색깔로 구분\r\n",
        "plt.scatter(x=iris_tsvd[:,0],y=iris_tsvd[:,1],c=iris.target)\r\n",
        "plt.xlabel(\"TruncatedSVD Component 1\")\r\n",
        "plt.ylabel(\"TruncatedSVD Component 2\")"
      ],
      "execution_count": 20,
      "outputs": [
        {
          "output_type": "execute_result",
          "data": {
            "text/plain": [
              "Text(0, 0.5, 'TruncatedSVD Component 2')"
            ]
          },
          "metadata": {
            "tags": []
          },
          "execution_count": 20
        },
        {
          "output_type": "display_data",
          "data": {
            "image/png": "[encoded data removed]",
            "text/plain": [
              "<Figure size 432x288 with 1 Axes>"
            ]
          },
          "metadata": {
            "tags": [],
            "needs_background": "light"
          }
        }
      ]
    },
    {
      "cell_type": "code",
      "metadata": {
        "colab": {
          "base_uri": "https://localhost:8080/",
          "height": 299
        },
        "id": "bc1YP6XcNbpy",
        "outputId": "674b5554-3e77-4d0e-8aba-5e67138b6d51"
      },
      "source": [
        "#iris 데이터를 StandardScaler로 변환\r\n",
        "scaler=StandardScaler()\r\n",
        "iris_scaled=scaler.fit_transform(iris_ftrs)\r\n",
        "\r\n",
        "#스케일링된 데이터로 TruncatedSVD 변환 수행\r\n",
        "tscd=TruncatedSVD(n_components=2)\r\n",
        "tscd.fit(iris_scaled)\r\n",
        "iris_tsvd=tsvd.transform(iris_scaled)\r\n",
        "\r\n",
        "#스케일링된 데이터로 PCA 변환 수행\r\n",
        "pca=PCA(n_components=2)\r\n",
        "pca.fit(iris_scaled)\r\n",
        "iris_pca=pca.transform(iris_scaled)\r\n",
        "\r\n",
        "#오른쪽 : TruncatedSVD , 왼쪽 : PCA\r\n",
        "fig,(ax1,ax2) = plt.subplots(figsize=(9,4),ncols=2)\r\n",
        "ax1.scatter(x=iris_tsvd[:,0],y=iris_scaled[:,1],c=iris.target)\r\n",
        "ax2.scatter(x=iris_pca[:,0],y=iris_pca[:,1],c=iris.target)\r\n",
        "ax1.set_title(\"Truncated SVD Transformed\")\r\n",
        "ax2.set_title(\"PCA Transformed\")"
      ],
      "execution_count": 24,
      "outputs": [
        {
          "output_type": "execute_result",
          "data": {
            "text/plain": [
              "Text(0.5, 1.0, 'PCA Transformed')"
            ]
          },
          "metadata": {
            "tags": []
          },
          "execution_count": 24
        },
        {
          "output_type": "display_data",
          "data": {
            "image/png": "[encoded data removed]",
            "text/plain": [
              "<Figure size 648x288 with 2 Axes>"
            ]
          },
          "metadata": {
            "tags": [],
            "needs_background": "light"
          }
        }
      ]
    },
    {
      "cell_type": "code",
      "metadata": {
        "id": "rMyNwtK4Qxqs"
      },
      "source": [
        ""
      ],
      "execution_count": null,
      "outputs": []
    }
  ]
}